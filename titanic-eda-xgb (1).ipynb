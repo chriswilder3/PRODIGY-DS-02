{
 "cells": [
  {
   "cell_type": "code",
   "execution_count": 1,
   "id": "f5d4d0d3",
   "metadata": {
    "_cell_guid": "b1076dfc-b9ad-4769-8c92-a6c4dae69d19",
    "_uuid": "8f2839f25d086af736a60e9eeb907d3b93b6e0e5",
    "execution": {
     "iopub.execute_input": "2024-04-27T04:29:12.576427Z",
     "iopub.status.busy": "2024-04-27T04:29:12.576019Z",
     "iopub.status.idle": "2024-04-27T04:29:13.248491Z",
     "shell.execute_reply": "2024-04-27T04:29:13.247268Z"
    },
    "papermill": {
     "duration": 0.687833,
     "end_time": "2024-04-27T04:29:13.250923",
     "exception": false,
     "start_time": "2024-04-27T04:29:12.563090",
     "status": "completed"
    },
    "tags": []
   },
   "outputs": [
    {
     "name": "stdout",
     "output_type": "stream",
     "text": [
      "/kaggle/input/titanic/train.csv\n",
      "/kaggle/input/titanic/test.csv\n",
      "/kaggle/input/titanic/gender_submission.csv\n"
     ]
    }
   ],
   "source": [
    "# This Python 3 environment comes with many helpful analytics libraries installed\n",
    "# It is defined by the kaggle/python Docker image: https://github.com/kaggle/docker-python\n",
    "# For example, here's several helpful packages to load\n",
    "\n",
    "import numpy as np # linear algebra\n",
    "import pandas as pd # data processing, CSV file I/O (e.g. pd.read_csv)\n",
    "\n",
    "# Input data files are available in the read-only \"../input/\" directory\n",
    "# For example, running this (by clicking run or pressing Shift+Enter) will list all files under the input directory\n",
    "\n",
    "import os\n",
    "for dirname, _, filenames in os.walk('/kaggle/input'):\n",
    "    for filename in filenames:\n",
    "        print(os.path.join(dirname, filename))\n",
    "\n",
    "# You can write up to 20GB to the current directory (/kaggle/working/) that gets preserved as output when you create a version using \"Save & Run All\" \n",
    "# You can also write temporary files to /kaggle/temp/, but they won't be saved outside of the current session"
   ]
  },
  {
   "cell_type": "code",
   "execution_count": 2,
   "id": "89bc17b2",
   "metadata": {
    "execution": {
     "iopub.execute_input": "2024-04-27T04:29:13.275009Z",
     "iopub.status.busy": "2024-04-27T04:29:13.274589Z",
     "iopub.status.idle": "2024-04-27T04:29:14.293805Z",
     "shell.execute_reply": "2024-04-27T04:29:14.292957Z"
    },
    "papermill": {
     "duration": 1.033599,
     "end_time": "2024-04-27T04:29:14.296113",
     "exception": false,
     "start_time": "2024-04-27T04:29:13.262514",
     "status": "completed"
    },
    "tags": []
   },
   "outputs": [],
   "source": [
    "import pandas as pd\n",
    "import numpy as np\n",
    "import matplotlib.pyplot as plt\n",
    "import seaborn as sns"
   ]
  },
  {
   "cell_type": "markdown",
   "id": "de411000",
   "metadata": {
    "papermill": {
     "duration": 0.011772,
     "end_time": "2024-04-27T04:29:14.319263",
     "exception": false,
     "start_time": "2024-04-27T04:29:14.307491",
     "status": "completed"
    },
    "tags": []
   },
   "source": [
    "# Data Loading"
   ]
  },
  {
   "cell_type": "code",
   "execution_count": 3,
   "id": "0c627662",
   "metadata": {
    "execution": {
     "iopub.execute_input": "2024-04-27T04:29:14.345602Z",
     "iopub.status.busy": "2024-04-27T04:29:14.344882Z",
     "iopub.status.idle": "2024-04-27T04:29:14.384762Z",
     "shell.execute_reply": "2024-04-27T04:29:14.383709Z"
    },
    "papermill": {
     "duration": 0.056681,
     "end_time": "2024-04-27T04:29:14.386813",
     "exception": false,
     "start_time": "2024-04-27T04:29:14.330132",
     "status": "completed"
    },
    "tags": []
   },
   "outputs": [
    {
     "data": {
      "text/html": [
       "<div>\n",
       "<style scoped>\n",
       "    .dataframe tbody tr th:only-of-type {\n",
       "        vertical-align: middle;\n",
       "    }\n",
       "\n",
       "    .dataframe tbody tr th {\n",
       "        vertical-align: top;\n",
       "    }\n",
       "\n",
       "    .dataframe thead th {\n",
       "        text-align: right;\n",
       "    }\n",
       "</style>\n",
       "<table border=\"1\" class=\"dataframe\">\n",
       "  <thead>\n",
       "    <tr style=\"text-align: right;\">\n",
       "      <th></th>\n",
       "      <th>PassengerId</th>\n",
       "      <th>Survived</th>\n",
       "      <th>Pclass</th>\n",
       "      <th>Name</th>\n",
       "      <th>Sex</th>\n",
       "      <th>Age</th>\n",
       "      <th>SibSp</th>\n",
       "      <th>Parch</th>\n",
       "      <th>Ticket</th>\n",
       "      <th>Fare</th>\n",
       "      <th>Cabin</th>\n",
       "      <th>Embarked</th>\n",
       "    </tr>\n",
       "  </thead>\n",
       "  <tbody>\n",
       "    <tr>\n",
       "      <th>0</th>\n",
       "      <td>1</td>\n",
       "      <td>0</td>\n",
       "      <td>3</td>\n",
       "      <td>Braund, Mr. Owen Harris</td>\n",
       "      <td>male</td>\n",
       "      <td>22.0</td>\n",
       "      <td>1</td>\n",
       "      <td>0</td>\n",
       "      <td>A/5 21171</td>\n",
       "      <td>7.2500</td>\n",
       "      <td>NaN</td>\n",
       "      <td>S</td>\n",
       "    </tr>\n",
       "    <tr>\n",
       "      <th>1</th>\n",
       "      <td>2</td>\n",
       "      <td>1</td>\n",
       "      <td>1</td>\n",
       "      <td>Cumings, Mrs. John Bradley (Florence Briggs Th...</td>\n",
       "      <td>female</td>\n",
       "      <td>38.0</td>\n",
       "      <td>1</td>\n",
       "      <td>0</td>\n",
       "      <td>PC 17599</td>\n",
       "      <td>71.2833</td>\n",
       "      <td>C85</td>\n",
       "      <td>C</td>\n",
       "    </tr>\n",
       "    <tr>\n",
       "      <th>2</th>\n",
       "      <td>3</td>\n",
       "      <td>1</td>\n",
       "      <td>3</td>\n",
       "      <td>Heikkinen, Miss. Laina</td>\n",
       "      <td>female</td>\n",
       "      <td>26.0</td>\n",
       "      <td>0</td>\n",
       "      <td>0</td>\n",
       "      <td>STON/O2. 3101282</td>\n",
       "      <td>7.9250</td>\n",
       "      <td>NaN</td>\n",
       "      <td>S</td>\n",
       "    </tr>\n",
       "    <tr>\n",
       "      <th>3</th>\n",
       "      <td>4</td>\n",
       "      <td>1</td>\n",
       "      <td>1</td>\n",
       "      <td>Futrelle, Mrs. Jacques Heath (Lily May Peel)</td>\n",
       "      <td>female</td>\n",
       "      <td>35.0</td>\n",
       "      <td>1</td>\n",
       "      <td>0</td>\n",
       "      <td>113803</td>\n",
       "      <td>53.1000</td>\n",
       "      <td>C123</td>\n",
       "      <td>S</td>\n",
       "    </tr>\n",
       "    <tr>\n",
       "      <th>4</th>\n",
       "      <td>5</td>\n",
       "      <td>0</td>\n",
       "      <td>3</td>\n",
       "      <td>Allen, Mr. William Henry</td>\n",
       "      <td>male</td>\n",
       "      <td>35.0</td>\n",
       "      <td>0</td>\n",
       "      <td>0</td>\n",
       "      <td>373450</td>\n",
       "      <td>8.0500</td>\n",
       "      <td>NaN</td>\n",
       "      <td>S</td>\n",
       "    </tr>\n",
       "  </tbody>\n",
       "</table>\n",
       "</div>"
      ],
      "text/plain": [
       "   PassengerId  Survived  Pclass  \\\n",
       "0            1         0       3   \n",
       "1            2         1       1   \n",
       "2            3         1       3   \n",
       "3            4         1       1   \n",
       "4            5         0       3   \n",
       "\n",
       "                                                Name     Sex   Age  SibSp  \\\n",
       "0                            Braund, Mr. Owen Harris    male  22.0      1   \n",
       "1  Cumings, Mrs. John Bradley (Florence Briggs Th...  female  38.0      1   \n",
       "2                             Heikkinen, Miss. Laina  female  26.0      0   \n",
       "3       Futrelle, Mrs. Jacques Heath (Lily May Peel)  female  35.0      1   \n",
       "4                           Allen, Mr. William Henry    male  35.0      0   \n",
       "\n",
       "   Parch            Ticket     Fare Cabin Embarked  \n",
       "0      0         A/5 21171   7.2500   NaN        S  \n",
       "1      0          PC 17599  71.2833   C85        C  \n",
       "2      0  STON/O2. 3101282   7.9250   NaN        S  \n",
       "3      0            113803  53.1000  C123        S  \n",
       "4      0            373450   8.0500   NaN        S  "
      ]
     },
     "execution_count": 3,
     "metadata": {},
     "output_type": "execute_result"
    }
   ],
   "source": [
    "data = pd.read_csv('/kaggle/input/titanic/train.csv')\n",
    "data.head()"
   ]
  },
  {
   "cell_type": "code",
   "execution_count": 4,
   "id": "a9c39154",
   "metadata": {
    "execution": {
     "iopub.execute_input": "2024-04-27T04:29:14.411099Z",
     "iopub.status.busy": "2024-04-27T04:29:14.410428Z",
     "iopub.status.idle": "2024-04-27T04:29:14.428127Z",
     "shell.execute_reply": "2024-04-27T04:29:14.427195Z"
    },
    "papermill": {
     "duration": 0.031892,
     "end_time": "2024-04-27T04:29:14.430137",
     "exception": false,
     "start_time": "2024-04-27T04:29:14.398245",
     "status": "completed"
    },
    "tags": []
   },
   "outputs": [
    {
     "data": {
      "text/html": [
       "<div>\n",
       "<style scoped>\n",
       "    .dataframe tbody tr th:only-of-type {\n",
       "        vertical-align: middle;\n",
       "    }\n",
       "\n",
       "    .dataframe tbody tr th {\n",
       "        vertical-align: top;\n",
       "    }\n",
       "\n",
       "    .dataframe thead th {\n",
       "        text-align: right;\n",
       "    }\n",
       "</style>\n",
       "<table border=\"1\" class=\"dataframe\">\n",
       "  <thead>\n",
       "    <tr style=\"text-align: right;\">\n",
       "      <th></th>\n",
       "      <th>Survived</th>\n",
       "      <th>Pclass</th>\n",
       "      <th>Sex</th>\n",
       "      <th>Age</th>\n",
       "      <th>SibSp</th>\n",
       "      <th>Parch</th>\n",
       "      <th>Fare</th>\n",
       "      <th>Cabin</th>\n",
       "      <th>Embarked</th>\n",
       "    </tr>\n",
       "  </thead>\n",
       "  <tbody>\n",
       "    <tr>\n",
       "      <th>0</th>\n",
       "      <td>0</td>\n",
       "      <td>3</td>\n",
       "      <td>male</td>\n",
       "      <td>22.0</td>\n",
       "      <td>1</td>\n",
       "      <td>0</td>\n",
       "      <td>7.2500</td>\n",
       "      <td>NaN</td>\n",
       "      <td>S</td>\n",
       "    </tr>\n",
       "    <tr>\n",
       "      <th>1</th>\n",
       "      <td>1</td>\n",
       "      <td>1</td>\n",
       "      <td>female</td>\n",
       "      <td>38.0</td>\n",
       "      <td>1</td>\n",
       "      <td>0</td>\n",
       "      <td>71.2833</td>\n",
       "      <td>C85</td>\n",
       "      <td>C</td>\n",
       "    </tr>\n",
       "    <tr>\n",
       "      <th>2</th>\n",
       "      <td>1</td>\n",
       "      <td>3</td>\n",
       "      <td>female</td>\n",
       "      <td>26.0</td>\n",
       "      <td>0</td>\n",
       "      <td>0</td>\n",
       "      <td>7.9250</td>\n",
       "      <td>NaN</td>\n",
       "      <td>S</td>\n",
       "    </tr>\n",
       "    <tr>\n",
       "      <th>3</th>\n",
       "      <td>1</td>\n",
       "      <td>1</td>\n",
       "      <td>female</td>\n",
       "      <td>35.0</td>\n",
       "      <td>1</td>\n",
       "      <td>0</td>\n",
       "      <td>53.1000</td>\n",
       "      <td>C123</td>\n",
       "      <td>S</td>\n",
       "    </tr>\n",
       "    <tr>\n",
       "      <th>4</th>\n",
       "      <td>0</td>\n",
       "      <td>3</td>\n",
       "      <td>male</td>\n",
       "      <td>35.0</td>\n",
       "      <td>0</td>\n",
       "      <td>0</td>\n",
       "      <td>8.0500</td>\n",
       "      <td>NaN</td>\n",
       "      <td>S</td>\n",
       "    </tr>\n",
       "  </tbody>\n",
       "</table>\n",
       "</div>"
      ],
      "text/plain": [
       "   Survived  Pclass     Sex   Age  SibSp  Parch     Fare Cabin Embarked\n",
       "0         0       3    male  22.0      1      0   7.2500   NaN        S\n",
       "1         1       1  female  38.0      1      0  71.2833   C85        C\n",
       "2         1       3  female  26.0      0      0   7.9250   NaN        S\n",
       "3         1       1  female  35.0      1      0  53.1000  C123        S\n",
       "4         0       3    male  35.0      0      0   8.0500   NaN        S"
      ]
     },
     "execution_count": 4,
     "metadata": {},
     "output_type": "execute_result"
    }
   ],
   "source": [
    "data.drop(['PassengerId','Name','Ticket'], axis =1 , inplace = True)\n",
    "data.head()"
   ]
  },
  {
   "cell_type": "markdown",
   "id": "69b59afa",
   "metadata": {
    "papermill": {
     "duration": 0.011378,
     "end_time": "2024-04-27T04:29:14.453128",
     "exception": false,
     "start_time": "2024-04-27T04:29:14.441750",
     "status": "completed"
    },
    "tags": []
   },
   "source": [
    "# EDA "
   ]
  },
  {
   "cell_type": "code",
   "execution_count": 5,
   "id": "0efa316a",
   "metadata": {
    "execution": {
     "iopub.execute_input": "2024-04-27T04:29:14.477659Z",
     "iopub.status.busy": "2024-04-27T04:29:14.477310Z",
     "iopub.status.idle": "2024-04-27T04:29:14.496702Z",
     "shell.execute_reply": "2024-04-27T04:29:14.495445Z"
    },
    "papermill": {
     "duration": 0.034088,
     "end_time": "2024-04-27T04:29:14.498788",
     "exception": false,
     "start_time": "2024-04-27T04:29:14.464700",
     "status": "completed"
    },
    "tags": []
   },
   "outputs": [
    {
     "name": "stdout",
     "output_type": "stream",
     "text": [
      "<class 'pandas.core.frame.DataFrame'>\n",
      "RangeIndex: 891 entries, 0 to 890\n",
      "Data columns (total 9 columns):\n",
      " #   Column    Non-Null Count  Dtype  \n",
      "---  ------    --------------  -----  \n",
      " 0   Survived  891 non-null    int64  \n",
      " 1   Pclass    891 non-null    int64  \n",
      " 2   Sex       891 non-null    object \n",
      " 3   Age       714 non-null    float64\n",
      " 4   SibSp     891 non-null    int64  \n",
      " 5   Parch     891 non-null    int64  \n",
      " 6   Fare      891 non-null    float64\n",
      " 7   Cabin     204 non-null    object \n",
      " 8   Embarked  889 non-null    object \n",
      "dtypes: float64(2), int64(4), object(3)\n",
      "memory usage: 62.8+ KB\n"
     ]
    }
   ],
   "source": [
    "data.info()"
   ]
  },
  {
   "cell_type": "code",
   "execution_count": 6,
   "id": "9a2f674b",
   "metadata": {
    "execution": {
     "iopub.execute_input": "2024-04-27T04:29:14.523403Z",
     "iopub.status.busy": "2024-04-27T04:29:14.523047Z",
     "iopub.status.idle": "2024-04-27T04:29:14.530894Z",
     "shell.execute_reply": "2024-04-27T04:29:14.530007Z"
    },
    "papermill": {
     "duration": 0.02244,
     "end_time": "2024-04-27T04:29:14.532946",
     "exception": false,
     "start_time": "2024-04-27T04:29:14.510506",
     "status": "completed"
    },
    "tags": []
   },
   "outputs": [
    {
     "data": {
      "text/plain": [
       "Survived      0\n",
       "Pclass        0\n",
       "Sex           0\n",
       "Age         177\n",
       "SibSp         0\n",
       "Parch         0\n",
       "Fare          0\n",
       "Cabin       687\n",
       "Embarked      2\n",
       "dtype: int64"
      ]
     },
     "execution_count": 6,
     "metadata": {},
     "output_type": "execute_result"
    }
   ],
   "source": [
    "data.isna().sum()"
   ]
  },
  {
   "cell_type": "code",
   "execution_count": 7,
   "id": "776e1005",
   "metadata": {
    "execution": {
     "iopub.execute_input": "2024-04-27T04:29:14.558151Z",
     "iopub.status.busy": "2024-04-27T04:29:14.557838Z",
     "iopub.status.idle": "2024-04-27T04:29:14.926307Z",
     "shell.execute_reply": "2024-04-27T04:29:14.925175Z"
    },
    "papermill": {
     "duration": 0.383844,
     "end_time": "2024-04-27T04:29:14.928547",
     "exception": false,
     "start_time": "2024-04-27T04:29:14.544703",
     "status": "completed"
    },
    "tags": []
   },
   "outputs": [
    {
     "data": {
      "text/plain": [
       "<Axes: ylabel='Frequency'>"
      ]
     },
     "execution_count": 7,
     "metadata": {},
     "output_type": "execute_result"
    },
    {
     "data": {
      "image/png": "[encoded data removed]",
      "text/plain": [
       "<Figure size 640x480 with 1 Axes>"
      ]
     },
     "metadata": {},
     "output_type": "display_data"
    }
   ],
   "source": [
    "data['Age'].plot(kind='hist')"
   ]
  },
  {
   "cell_type": "markdown",
   "id": "46e93bfb",
   "metadata": {
    "papermill": {
     "duration": 0.011877,
     "end_time": "2024-04-27T04:29:14.952723",
     "exception": false,
     "start_time": "2024-04-27T04:29:14.940846",
     "status": "completed"
    },
    "tags": []
   },
   "source": [
    "We can see the distribution of age. Its much better in kdeplot"
   ]
  },
  {
   "cell_type": "markdown",
   "id": "41db969b",
   "metadata": {
    "papermill": {
     "duration": 0.011691,
     "end_time": "2024-04-27T04:29:14.976425",
     "exception": false,
     "start_time": "2024-04-27T04:29:14.964734",
     "status": "completed"
    },
    "tags": []
   },
   "source": [
    "# Exploring Age"
   ]
  },
  {
   "cell_type": "code",
   "execution_count": 8,
   "id": "3d4f61f6",
   "metadata": {
    "execution": {
     "iopub.execute_input": "2024-04-27T04:29:15.002635Z",
     "iopub.status.busy": "2024-04-27T04:29:15.001655Z",
     "iopub.status.idle": "2024-04-27T04:29:15.278943Z",
     "shell.execute_reply": "2024-04-27T04:29:15.277791Z"
    },
    "papermill": {
     "duration": 0.292803,
     "end_time": "2024-04-27T04:29:15.281197",
     "exception": false,
     "start_time": "2024-04-27T04:29:14.988394",
     "status": "completed"
    },
    "tags": []
   },
   "outputs": [
    {
     "name": "stderr",
     "output_type": "stream",
     "text": [
      "/opt/conda/lib/python3.10/site-packages/seaborn/_oldcore.py:1119: FutureWarning: use_inf_as_na option is deprecated and will be removed in a future version. Convert inf values to NaN before operating instead.\n",
      "  with pd.option_context('mode.use_inf_as_na', True):\n"
     ]
    },
    {
     "data": {
      "text/plain": [
       "<Axes: xlabel='Age', ylabel='Density'>"
      ]
     },
     "execution_count": 8,
     "metadata": {},
     "output_type": "execute_result"
    },
    {
     "data": {
      "image/png": "[encoded data removed]",
      "text/plain": [
       "<Figure size 640x480 with 1 Axes>"
      ]
     },
     "metadata": {},
     "output_type": "display_data"
    }
   ],
   "source": [
    "sns.kdeplot(data['Age'], fill = True)"
   ]
  },
  {
   "cell_type": "markdown",
   "id": "2a6123fd",
   "metadata": {
    "papermill": {
     "duration": 0.012614,
     "end_time": "2024-04-27T04:29:15.306706",
     "exception": false,
     "start_time": "2024-04-27T04:29:15.294092",
     "status": "completed"
    },
    "tags": []
   },
   "source": [
    "Lets analyze the ages of survivors and non- survivors."
   ]
  },
  {
   "cell_type": "code",
   "execution_count": 9,
   "id": "7a5c57d0",
   "metadata": {
    "execution": {
     "iopub.execute_input": "2024-04-27T04:29:15.334352Z",
     "iopub.status.busy": "2024-04-27T04:29:15.333958Z",
     "iopub.status.idle": "2024-04-27T04:29:15.735464Z",
     "shell.execute_reply": "2024-04-27T04:29:15.734400Z"
    },
    "papermill": {
     "duration": 0.417795,
     "end_time": "2024-04-27T04:29:15.737653",
     "exception": false,
     "start_time": "2024-04-27T04:29:15.319858",
     "status": "completed"
    },
    "tags": []
   },
   "outputs": [
    {
     "name": "stderr",
     "output_type": "stream",
     "text": [
      "/opt/conda/lib/python3.10/site-packages/seaborn/_oldcore.py:1119: FutureWarning: use_inf_as_na option is deprecated and will be removed in a future version. Convert inf values to NaN before operating instead.\n",
      "  with pd.option_context('mode.use_inf_as_na', True):\n",
      "/opt/conda/lib/python3.10/site-packages/seaborn/_oldcore.py:1119: FutureWarning: use_inf_as_na option is deprecated and will be removed in a future version. Convert inf values to NaN before operating instead.\n",
      "  with pd.option_context('mode.use_inf_as_na', True):\n"
     ]
    },
    {
     "data": {
      "text/plain": [
       "<Axes: xlabel='Age', ylabel='Density'>"
      ]
     },
     "execution_count": 9,
     "metadata": {},
     "output_type": "execute_result"
    },
    {
     "data": {
      "image/png": "[encoded data removed]",
      "text/plain": [
       "<Figure size 700x300 with 2 Axes>"
      ]
     },
     "metadata": {},
     "output_type": "display_data"
    }
   ],
   "source": [
    "alive = data[data['Survived'] == True]\n",
    "dead = data[data['Survived'] == False]\n",
    "\n",
    "plt.figure(figsize = (7,3))\n",
    "plt.subplot(1,2,1)\n",
    "sns.kdeplot(alive['Age'], fill = True)\n",
    "plt.subplot(1,2,2)\n",
    "sns.kdeplot(dead['Age'], fill = True)"
   ]
  },
  {
   "cell_type": "code",
   "execution_count": 10,
   "id": "d717dc00",
   "metadata": {
    "execution": {
     "iopub.execute_input": "2024-04-27T04:29:15.766614Z",
     "iopub.status.busy": "2024-04-27T04:29:15.765924Z",
     "iopub.status.idle": "2024-04-27T04:29:16.066384Z",
     "shell.execute_reply": "2024-04-27T04:29:16.065411Z"
    },
    "papermill": {
     "duration": 0.317297,
     "end_time": "2024-04-27T04:29:16.068560",
     "exception": false,
     "start_time": "2024-04-27T04:29:15.751263",
     "status": "completed"
    },
    "tags": []
   },
   "outputs": [
    {
     "name": "stderr",
     "output_type": "stream",
     "text": [
      "/opt/conda/lib/python3.10/site-packages/seaborn/_oldcore.py:1119: FutureWarning: use_inf_as_na option is deprecated and will be removed in a future version. Convert inf values to NaN before operating instead.\n",
      "  with pd.option_context('mode.use_inf_as_na', True):\n",
      "/opt/conda/lib/python3.10/site-packages/seaborn/_oldcore.py:1075: FutureWarning: When grouping with a length-1 list-like, you will need to pass a length-1 tuple to get_group in a future version of pandas. Pass `(name,)` instead of `name` to silence this warning.\n",
      "  data_subset = grouped_data.get_group(pd_key)\n"
     ]
    },
    {
     "data": {
      "text/plain": [
       "<Axes: xlabel='Age', ylabel='Density'>"
      ]
     },
     "execution_count": 10,
     "metadata": {},
     "output_type": "execute_result"
    },
    {
     "data": {
      "image/png": "[encoded data removed]",
      "text/plain": [
       "<Figure size 400x300 with 1 Axes>"
      ]
     },
     "metadata": {},
     "output_type": "display_data"
    }
   ],
   "source": [
    "# Lets compare them on same scale\n",
    "plt.figure(figsize = (4,3))\n",
    "sns.kdeplot(x='Age', hue ='Survived', data= data, fill = True)"
   ]
  },
  {
   "cell_type": "markdown",
   "id": "617f0c45",
   "metadata": {
    "papermill": {
     "duration": 0.013815,
     "end_time": "2024-04-27T04:29:16.097058",
     "exception": false,
     "start_time": "2024-04-27T04:29:16.083243",
     "status": "completed"
    },
    "tags": []
   },
   "source": [
    "We can see easily that, most of adults gave way to children and elderly."
   ]
  },
  {
   "cell_type": "code",
   "execution_count": 11,
   "id": "2c37ea58",
   "metadata": {
    "execution": {
     "iopub.execute_input": "2024-04-27T04:29:16.126241Z",
     "iopub.status.busy": "2024-04-27T04:29:16.125855Z",
     "iopub.status.idle": "2024-04-27T04:29:16.135819Z",
     "shell.execute_reply": "2024-04-27T04:29:16.134685Z"
    },
    "papermill": {
     "duration": 0.026911,
     "end_time": "2024-04-27T04:29:16.137777",
     "exception": false,
     "start_time": "2024-04-27T04:29:16.110866",
     "status": "completed"
    },
    "tags": []
   },
   "outputs": [
    {
     "data": {
      "text/plain": [
       "Age\n",
       "24.00    30\n",
       "22.00    27\n",
       "18.00    26\n",
       "19.00    25\n",
       "28.00    25\n",
       "         ..\n",
       "36.50     1\n",
       "55.50     1\n",
       "0.92      1\n",
       "23.50     1\n",
       "74.00     1\n",
       "Name: count, Length: 88, dtype: int64"
      ]
     },
     "execution_count": 11,
     "metadata": {},
     "output_type": "execute_result"
    }
   ],
   "source": [
    "data['Age'].value_counts()"
   ]
  },
  {
   "cell_type": "markdown",
   "id": "f64ccaaf",
   "metadata": {
    "papermill": {
     "duration": 0.01386,
     "end_time": "2024-04-27T04:29:16.166006",
     "exception": false,
     "start_time": "2024-04-27T04:29:16.152146",
     "status": "completed"
    },
    "tags": []
   },
   "source": [
    "So the data in continous clearly."
   ]
  },
  {
   "cell_type": "code",
   "execution_count": 12,
   "id": "9caeef78",
   "metadata": {
    "execution": {
     "iopub.execute_input": "2024-04-27T04:29:16.195805Z",
     "iopub.status.busy": "2024-04-27T04:29:16.195079Z",
     "iopub.status.idle": "2024-04-27T04:29:16.204163Z",
     "shell.execute_reply": "2024-04-27T04:29:16.203303Z"
    },
    "papermill": {
     "duration": 0.02619,
     "end_time": "2024-04-27T04:29:16.206137",
     "exception": false,
     "start_time": "2024-04-27T04:29:16.179947",
     "status": "completed"
    },
    "tags": []
   },
   "outputs": [
    {
     "data": {
      "text/plain": [
       "Survived      0\n",
       "Pclass        0\n",
       "Sex           0\n",
       "Age           0\n",
       "SibSp         0\n",
       "Parch         0\n",
       "Fare          0\n",
       "Cabin       687\n",
       "Embarked      2\n",
       "dtype: int64"
      ]
     },
     "execution_count": 12,
     "metadata": {},
     "output_type": "execute_result"
    }
   ],
   "source": [
    "# Lets handle the NaN values as well\n",
    "\n",
    "mean = data['Age'].mean()\n",
    "\n",
    "data['Age'].fillna(mean,inplace =True)\n",
    "\n",
    "data.isna().sum()"
   ]
  },
  {
   "cell_type": "markdown",
   "id": "782cf23d",
   "metadata": {
    "papermill": {
     "duration": 0.013809,
     "end_time": "2024-04-27T04:29:16.234322",
     "exception": false,
     "start_time": "2024-04-27T04:29:16.220513",
     "status": "completed"
    },
    "tags": []
   },
   "source": [
    "# Explore Cabin"
   ]
  },
  {
   "cell_type": "code",
   "execution_count": 13,
   "id": "4c3a0279",
   "metadata": {
    "execution": {
     "iopub.execute_input": "2024-04-27T04:29:16.264306Z",
     "iopub.status.busy": "2024-04-27T04:29:16.263581Z",
     "iopub.status.idle": "2024-04-27T04:29:16.271853Z",
     "shell.execute_reply": "2024-04-27T04:29:16.270964Z"
    },
    "papermill": {
     "duration": 0.025424,
     "end_time": "2024-04-27T04:29:16.273800",
     "exception": false,
     "start_time": "2024-04-27T04:29:16.248376",
     "status": "completed"
    },
    "tags": []
   },
   "outputs": [
    {
     "data": {
      "text/plain": [
       "Cabin\n",
       "B96 B98        4\n",
       "G6             4\n",
       "C23 C25 C27    4\n",
       "C22 C26        3\n",
       "F33            3\n",
       "              ..\n",
       "E34            1\n",
       "C7             1\n",
       "C54            1\n",
       "E36            1\n",
       "C148           1\n",
       "Name: count, Length: 147, dtype: int64"
      ]
     },
     "execution_count": 13,
     "metadata": {},
     "output_type": "execute_result"
    }
   ],
   "source": [
    "cabin = data['Cabin']\n",
    "cabin.value_counts()"
   ]
  },
  {
   "cell_type": "code",
   "execution_count": 14,
   "id": "99f2e9ec",
   "metadata": {
    "execution": {
     "iopub.execute_input": "2024-04-27T04:29:16.347517Z",
     "iopub.status.busy": "2024-04-27T04:29:16.346609Z",
     "iopub.status.idle": "2024-04-27T04:29:16.354462Z",
     "shell.execute_reply": "2024-04-27T04:29:16.353516Z"
    },
    "papermill": {
     "duration": 0.025942,
     "end_time": "2024-04-27T04:29:16.356471",
     "exception": false,
     "start_time": "2024-04-27T04:29:16.330529",
     "status": "completed"
    },
    "tags": []
   },
   "outputs": [],
   "source": [
    "# Lets extract 2 things : No of cabins owned. The cabin name(deck). Both can indicate the status of person.\n",
    "\n",
    "cabin_count = []\n",
    "cabin_deck = []\n",
    "\n",
    "for row in cabin:\n",
    "    if pd.isna(row):\n",
    "        cabin_count.append(np.nan)\n",
    "        cabin_deck.append(np.nan)\n",
    "    else:\n",
    "        cabin_names = row.split()\n",
    "        cabin_count.append(len(cabin_names))\n",
    "        cabin_deck.append(cabin_names[0][0])\n",
    "        \n",
    "cabin_count = pd.Series(cabin_count)\n",
    "cabin_deck = pd.Series(cabin_deck)"
   ]
  },
  {
   "cell_type": "code",
   "execution_count": 15,
   "id": "085bd03f",
   "metadata": {
    "execution": {
     "iopub.execute_input": "2024-04-27T04:29:16.386868Z",
     "iopub.status.busy": "2024-04-27T04:29:16.386530Z",
     "iopub.status.idle": "2024-04-27T04:29:16.393327Z",
     "shell.execute_reply": "2024-04-27T04:29:16.392434Z"
    },
    "papermill": {
     "duration": 0.024355,
     "end_time": "2024-04-27T04:29:16.395351",
     "exception": false,
     "start_time": "2024-04-27T04:29:16.370996",
     "status": "completed"
    },
    "tags": []
   },
   "outputs": [
    {
     "data": {
      "text/plain": [
       "(687, 687)"
      ]
     },
     "execution_count": 15,
     "metadata": {},
     "output_type": "execute_result"
    }
   ],
   "source": [
    "cabin_count.isna().sum(), cabin_deck.isna().sum()"
   ]
  },
  {
   "cell_type": "code",
   "execution_count": 16,
   "id": "f19c9f49",
   "metadata": {
    "execution": {
     "iopub.execute_input": "2024-04-27T04:29:16.425457Z",
     "iopub.status.busy": "2024-04-27T04:29:16.424870Z",
     "iopub.status.idle": "2024-04-27T04:29:16.661726Z",
     "shell.execute_reply": "2024-04-27T04:29:16.660700Z"
    },
    "papermill": {
     "duration": 0.254198,
     "end_time": "2024-04-27T04:29:16.663845",
     "exception": false,
     "start_time": "2024-04-27T04:29:16.409647",
     "status": "completed"
    },
    "tags": []
   },
   "outputs": [
    {
     "data": {
      "text/plain": [
       "<Axes: >"
      ]
     },
     "execution_count": 16,
     "metadata": {},
     "output_type": "execute_result"
    },
    {
     "data": {
      "image/png": "[encoded data removed]",
      "text/plain": [
       "<Figure size 640x480 with 1 Axes>"
      ]
     },
     "metadata": {},
     "output_type": "display_data"
    }
   ],
   "source": [
    "cabin_deck.value_counts().plot(kind='bar')"
   ]
  },
  {
   "cell_type": "code",
   "execution_count": 17,
   "id": "7e466ab1",
   "metadata": {
    "execution": {
     "iopub.execute_input": "2024-04-27T04:29:16.695377Z",
     "iopub.status.busy": "2024-04-27T04:29:16.694549Z",
     "iopub.status.idle": "2024-04-27T04:29:16.702197Z",
     "shell.execute_reply": "2024-04-27T04:29:16.701300Z"
    },
    "papermill": {
     "duration": 0.025299,
     "end_time": "2024-04-27T04:29:16.704166",
     "exception": false,
     "start_time": "2024-04-27T04:29:16.678867",
     "status": "completed"
    },
    "tags": []
   },
   "outputs": [
    {
     "data": {
      "text/plain": [
       "1.0    180\n",
       "2.0     16\n",
       "3.0      6\n",
       "4.0      2\n",
       "Name: count, dtype: int64"
      ]
     },
     "execution_count": 17,
     "metadata": {},
     "output_type": "execute_result"
    }
   ],
   "source": [
    "cabin_count.value_counts()"
   ]
  },
  {
   "cell_type": "code",
   "execution_count": 18,
   "id": "294cbc1f",
   "metadata": {
    "execution": {
     "iopub.execute_input": "2024-04-27T04:29:16.735395Z",
     "iopub.status.busy": "2024-04-27T04:29:16.735040Z",
     "iopub.status.idle": "2024-04-27T04:29:16.743175Z",
     "shell.execute_reply": "2024-04-27T04:29:16.742272Z"
    },
    "papermill": {
     "duration": 0.026061,
     "end_time": "2024-04-27T04:29:16.745173",
     "exception": false,
     "start_time": "2024-04-27T04:29:16.719112",
     "status": "completed"
    },
    "tags": []
   },
   "outputs": [
    {
     "data": {
      "text/plain": [
       "-0.03421769287674746"
      ]
     },
     "execution_count": 18,
     "metadata": {},
     "output_type": "execute_result"
    }
   ],
   "source": [
    "cor = cabin_count.corr(data['Survived'])\n",
    "cor"
   ]
  },
  {
   "cell_type": "code",
   "execution_count": 19,
   "id": "c7148349",
   "metadata": {
    "execution": {
     "iopub.execute_input": "2024-04-27T04:29:16.776386Z",
     "iopub.status.busy": "2024-04-27T04:29:16.775675Z",
     "iopub.status.idle": "2024-04-27T04:29:16.947609Z",
     "shell.execute_reply": "2024-04-27T04:29:16.946570Z"
    },
    "papermill": {
     "duration": 0.189797,
     "end_time": "2024-04-27T04:29:16.949786",
     "exception": false,
     "start_time": "2024-04-27T04:29:16.759989",
     "status": "completed"
    },
    "tags": []
   },
   "outputs": [
    {
     "data": {
      "text/plain": [
       "<Axes: >"
      ]
     },
     "execution_count": 19,
     "metadata": {},
     "output_type": "execute_result"
    },
    {
     "data": {
      "image/png": "[encoded data removed]",
      "text/plain": [
       "<Figure size 640x480 with 1 Axes>"
      ]
     },
     "metadata": {},
     "output_type": "display_data"
    }
   ],
   "source": [
    "cabin_count.value_counts().plot(kind='bar')"
   ]
  },
  {
   "cell_type": "code",
   "execution_count": 20,
   "id": "91b91cce",
   "metadata": {
    "execution": {
     "iopub.execute_input": "2024-04-27T04:29:16.982604Z",
     "iopub.status.busy": "2024-04-27T04:29:16.981741Z",
     "iopub.status.idle": "2024-04-27T04:29:16.989554Z",
     "shell.execute_reply": "2024-04-27T04:29:16.988613Z"
    },
    "papermill": {
     "duration": 0.026058,
     "end_time": "2024-04-27T04:29:16.991470",
     "exception": false,
     "start_time": "2024-04-27T04:29:16.965412",
     "status": "completed"
    },
    "tags": []
   },
   "outputs": [
    {
     "data": {
      "text/plain": [
       "C    59\n",
       "B    47\n",
       "D    33\n",
       "E    32\n",
       "A    15\n",
       "F    13\n",
       "G     4\n",
       "T     1\n",
       "Name: count, dtype: int64"
      ]
     },
     "execution_count": 20,
     "metadata": {},
     "output_type": "execute_result"
    }
   ],
   "source": [
    "cabin_deck.value_counts()"
   ]
  },
  {
   "cell_type": "code",
   "execution_count": 21,
   "id": "b50fc66d",
   "metadata": {
    "execution": {
     "iopub.execute_input": "2024-04-27T04:29:17.024570Z",
     "iopub.status.busy": "2024-04-27T04:29:17.023706Z",
     "iopub.status.idle": "2024-04-27T04:29:17.032271Z",
     "shell.execute_reply": "2024-04-27T04:29:17.031339Z"
    },
    "papermill": {
     "duration": 0.027627,
     "end_time": "2024-04-27T04:29:17.034694",
     "exception": false,
     "start_time": "2024-04-27T04:29:17.007067",
     "status": "completed"
    },
    "tags": []
   },
   "outputs": [
    {
     "data": {
      "text/plain": [
       "C    60\n",
       "B    47\n",
       "D    33\n",
       "E    32\n",
       "A    15\n",
       "F    13\n",
       "G     4\n",
       "Name: count, dtype: int64"
      ]
     },
     "execution_count": 21,
     "metadata": {},
     "output_type": "execute_result"
    }
   ],
   "source": [
    "# Lets handle T\n",
    "\n",
    "cabin_deck = cabin_deck.replace('T','C')\n",
    "cabin_deck.value_counts()"
   ]
  },
  {
   "cell_type": "markdown",
   "id": "92e6e2b2",
   "metadata": {
    "papermill": {
     "duration": 0.015261,
     "end_time": "2024-04-27T04:29:17.065959",
     "exception": false,
     "start_time": "2024-04-27T04:29:17.050698",
     "status": "completed"
    },
    "tags": []
   },
   "source": [
    "Lets handle Null Values"
   ]
  },
  {
   "cell_type": "code",
   "execution_count": 22,
   "id": "8987eef4",
   "metadata": {
    "execution": {
     "iopub.execute_input": "2024-04-27T04:29:17.098079Z",
     "iopub.status.busy": "2024-04-27T04:29:17.097718Z",
     "iopub.status.idle": "2024-04-27T04:29:17.105415Z",
     "shell.execute_reply": "2024-04-27T04:29:17.104466Z"
    },
    "papermill": {
     "duration": 0.02612,
     "end_time": "2024-04-27T04:29:17.107419",
     "exception": false,
     "start_time": "2024-04-27T04:29:17.081299",
     "status": "completed"
    },
    "tags": []
   },
   "outputs": [
    {
     "data": {
      "text/plain": [
       "0"
      ]
     },
     "execution_count": 22,
     "metadata": {},
     "output_type": "execute_result"
    }
   ],
   "source": [
    "mode = cabin_count.mode().iloc[0] # Note that cabin_count is still not continous\n",
    "cabin_count.fillna(mode, inplace =True)\n",
    "cabin_count.isna().sum()"
   ]
  },
  {
   "cell_type": "code",
   "execution_count": 23,
   "id": "a5e3deb2",
   "metadata": {
    "execution": {
     "iopub.execute_input": "2024-04-27T04:29:17.140077Z",
     "iopub.status.busy": "2024-04-27T04:29:17.139571Z",
     "iopub.status.idle": "2024-04-27T04:29:17.146749Z",
     "shell.execute_reply": "2024-04-27T04:29:17.145850Z"
    },
    "papermill": {
     "duration": 0.02579,
     "end_time": "2024-04-27T04:29:17.148758",
     "exception": false,
     "start_time": "2024-04-27T04:29:17.122968",
     "status": "completed"
    },
    "tags": []
   },
   "outputs": [
    {
     "data": {
      "text/plain": [
       "0"
      ]
     },
     "execution_count": 23,
     "metadata": {},
     "output_type": "execute_result"
    }
   ],
   "source": [
    "mode= cabin_deck.mode().iloc[0]\n",
    "cabin_deck.fillna(mode, inplace =True)\n",
    "cabin_deck.isna().sum()"
   ]
  },
  {
   "cell_type": "code",
   "execution_count": 24,
   "id": "532e3fad",
   "metadata": {
    "execution": {
     "iopub.execute_input": "2024-04-27T04:29:17.181027Z",
     "iopub.status.busy": "2024-04-27T04:29:17.180737Z",
     "iopub.status.idle": "2024-04-27T04:29:17.196428Z",
     "shell.execute_reply": "2024-04-27T04:29:17.195517Z"
    },
    "papermill": {
     "duration": 0.034069,
     "end_time": "2024-04-27T04:29:17.198408",
     "exception": false,
     "start_time": "2024-04-27T04:29:17.164339",
     "status": "completed"
    },
    "tags": []
   },
   "outputs": [
    {
     "data": {
      "text/html": [
       "<div>\n",
       "<style scoped>\n",
       "    .dataframe tbody tr th:only-of-type {\n",
       "        vertical-align: middle;\n",
       "    }\n",
       "\n",
       "    .dataframe tbody tr th {\n",
       "        vertical-align: top;\n",
       "    }\n",
       "\n",
       "    .dataframe thead th {\n",
       "        text-align: right;\n",
       "    }\n",
       "</style>\n",
       "<table border=\"1\" class=\"dataframe\">\n",
       "  <thead>\n",
       "    <tr style=\"text-align: right;\">\n",
       "      <th></th>\n",
       "      <th>Survived</th>\n",
       "      <th>Pclass</th>\n",
       "      <th>Sex</th>\n",
       "      <th>Age</th>\n",
       "      <th>SibSp</th>\n",
       "      <th>Parch</th>\n",
       "      <th>Fare</th>\n",
       "      <th>Embarked</th>\n",
       "      <th>cabin_count</th>\n",
       "      <th>cabin_deck</th>\n",
       "    </tr>\n",
       "  </thead>\n",
       "  <tbody>\n",
       "    <tr>\n",
       "      <th>0</th>\n",
       "      <td>0</td>\n",
       "      <td>3</td>\n",
       "      <td>male</td>\n",
       "      <td>22.0</td>\n",
       "      <td>1</td>\n",
       "      <td>0</td>\n",
       "      <td>7.2500</td>\n",
       "      <td>S</td>\n",
       "      <td>1.0</td>\n",
       "      <td>C</td>\n",
       "    </tr>\n",
       "    <tr>\n",
       "      <th>1</th>\n",
       "      <td>1</td>\n",
       "      <td>1</td>\n",
       "      <td>female</td>\n",
       "      <td>38.0</td>\n",
       "      <td>1</td>\n",
       "      <td>0</td>\n",
       "      <td>71.2833</td>\n",
       "      <td>C</td>\n",
       "      <td>1.0</td>\n",
       "      <td>C</td>\n",
       "    </tr>\n",
       "    <tr>\n",
       "      <th>2</th>\n",
       "      <td>1</td>\n",
       "      <td>3</td>\n",
       "      <td>female</td>\n",
       "      <td>26.0</td>\n",
       "      <td>0</td>\n",
       "      <td>0</td>\n",
       "      <td>7.9250</td>\n",
       "      <td>S</td>\n",
       "      <td>1.0</td>\n",
       "      <td>C</td>\n",
       "    </tr>\n",
       "    <tr>\n",
       "      <th>3</th>\n",
       "      <td>1</td>\n",
       "      <td>1</td>\n",
       "      <td>female</td>\n",
       "      <td>35.0</td>\n",
       "      <td>1</td>\n",
       "      <td>0</td>\n",
       "      <td>53.1000</td>\n",
       "      <td>S</td>\n",
       "      <td>1.0</td>\n",
       "      <td>C</td>\n",
       "    </tr>\n",
       "    <tr>\n",
       "      <th>4</th>\n",
       "      <td>0</td>\n",
       "      <td>3</td>\n",
       "      <td>male</td>\n",
       "      <td>35.0</td>\n",
       "      <td>0</td>\n",
       "      <td>0</td>\n",
       "      <td>8.0500</td>\n",
       "      <td>S</td>\n",
       "      <td>1.0</td>\n",
       "      <td>C</td>\n",
       "    </tr>\n",
       "  </tbody>\n",
       "</table>\n",
       "</div>"
      ],
      "text/plain": [
       "   Survived  Pclass     Sex   Age  SibSp  Parch     Fare Embarked  \\\n",
       "0         0       3    male  22.0      1      0   7.2500        S   \n",
       "1         1       1  female  38.0      1      0  71.2833        C   \n",
       "2         1       3  female  26.0      0      0   7.9250        S   \n",
       "3         1       1  female  35.0      1      0  53.1000        S   \n",
       "4         0       3    male  35.0      0      0   8.0500        S   \n",
       "\n",
       "   cabin_count cabin_deck  \n",
       "0          1.0          C  \n",
       "1          1.0          C  \n",
       "2          1.0          C  \n",
       "3          1.0          C  \n",
       "4          1.0          C  "
      ]
     },
     "execution_count": 24,
     "metadata": {},
     "output_type": "execute_result"
    }
   ],
   "source": [
    "data.drop('Cabin', axis = 1, inplace = True) # Drop cabin\n",
    "data['cabin_count'] = cabin_count\n",
    "data['cabin_deck'] = cabin_deck\n",
    "data.head()"
   ]
  },
  {
   "cell_type": "code",
   "execution_count": 25,
   "id": "1f422033",
   "metadata": {
    "execution": {
     "iopub.execute_input": "2024-04-27T04:29:17.231604Z",
     "iopub.status.busy": "2024-04-27T04:29:17.230794Z",
     "iopub.status.idle": "2024-04-27T04:29:17.244741Z",
     "shell.execute_reply": "2024-04-27T04:29:17.243853Z"
    },
    "papermill": {
     "duration": 0.032627,
     "end_time": "2024-04-27T04:29:17.246700",
     "exception": false,
     "start_time": "2024-04-27T04:29:17.214073",
     "status": "completed"
    },
    "tags": []
   },
   "outputs": [
    {
     "data": {
      "text/html": [
       "<div>\n",
       "<style scoped>\n",
       "    .dataframe tbody tr th:only-of-type {\n",
       "        vertical-align: middle;\n",
       "    }\n",
       "\n",
       "    .dataframe tbody tr th {\n",
       "        vertical-align: top;\n",
       "    }\n",
       "\n",
       "    .dataframe thead th {\n",
       "        text-align: right;\n",
       "    }\n",
       "</style>\n",
       "<table border=\"1\" class=\"dataframe\">\n",
       "  <thead>\n",
       "    <tr style=\"text-align: right;\">\n",
       "      <th></th>\n",
       "      <th>Survived</th>\n",
       "      <th>Pclass</th>\n",
       "      <th>Sex</th>\n",
       "      <th>Age</th>\n",
       "      <th>SibSp</th>\n",
       "      <th>Parch</th>\n",
       "      <th>Fare</th>\n",
       "      <th>Embarked</th>\n",
       "      <th>cabin_count</th>\n",
       "      <th>cabin_deck</th>\n",
       "    </tr>\n",
       "  </thead>\n",
       "  <tbody>\n",
       "    <tr>\n",
       "      <th>0</th>\n",
       "      <td>0</td>\n",
       "      <td>3</td>\n",
       "      <td>male</td>\n",
       "      <td>22.0</td>\n",
       "      <td>1</td>\n",
       "      <td>0</td>\n",
       "      <td>7.2500</td>\n",
       "      <td>S</td>\n",
       "      <td>1.0</td>\n",
       "      <td>C</td>\n",
       "    </tr>\n",
       "    <tr>\n",
       "      <th>1</th>\n",
       "      <td>1</td>\n",
       "      <td>1</td>\n",
       "      <td>female</td>\n",
       "      <td>38.0</td>\n",
       "      <td>1</td>\n",
       "      <td>0</td>\n",
       "      <td>71.2833</td>\n",
       "      <td>C</td>\n",
       "      <td>1.0</td>\n",
       "      <td>C</td>\n",
       "    </tr>\n",
       "    <tr>\n",
       "      <th>2</th>\n",
       "      <td>1</td>\n",
       "      <td>3</td>\n",
       "      <td>female</td>\n",
       "      <td>26.0</td>\n",
       "      <td>0</td>\n",
       "      <td>0</td>\n",
       "      <td>7.9250</td>\n",
       "      <td>S</td>\n",
       "      <td>1.0</td>\n",
       "      <td>C</td>\n",
       "    </tr>\n",
       "    <tr>\n",
       "      <th>3</th>\n",
       "      <td>1</td>\n",
       "      <td>1</td>\n",
       "      <td>female</td>\n",
       "      <td>35.0</td>\n",
       "      <td>1</td>\n",
       "      <td>0</td>\n",
       "      <td>53.1000</td>\n",
       "      <td>S</td>\n",
       "      <td>1.0</td>\n",
       "      <td>C</td>\n",
       "    </tr>\n",
       "    <tr>\n",
       "      <th>4</th>\n",
       "      <td>0</td>\n",
       "      <td>3</td>\n",
       "      <td>male</td>\n",
       "      <td>35.0</td>\n",
       "      <td>0</td>\n",
       "      <td>0</td>\n",
       "      <td>8.0500</td>\n",
       "      <td>S</td>\n",
       "      <td>1.0</td>\n",
       "      <td>C</td>\n",
       "    </tr>\n",
       "  </tbody>\n",
       "</table>\n",
       "</div>"
      ],
      "text/plain": [
       "   Survived  Pclass     Sex   Age  SibSp  Parch     Fare Embarked cabin_count  \\\n",
       "0         0       3    male  22.0      1      0   7.2500        S         1.0   \n",
       "1         1       1  female  38.0      1      0  71.2833        C         1.0   \n",
       "2         1       3  female  26.0      0      0   7.9250        S         1.0   \n",
       "3         1       1  female  35.0      1      0  53.1000        S         1.0   \n",
       "4         0       3    male  35.0      0      0   8.0500        S         1.0   \n",
       "\n",
       "  cabin_deck  \n",
       "0          C  \n",
       "1          C  \n",
       "2          C  \n",
       "3          C  \n",
       "4          C  "
      ]
     },
     "execution_count": 25,
     "metadata": {},
     "output_type": "execute_result"
    }
   ],
   "source": [
    "# Cabin Count must also be made categorical\n",
    "\n",
    "data['cabin_count'] = data['cabin_count'].astype(str)\n",
    "data.head()"
   ]
  },
  {
   "cell_type": "code",
   "execution_count": 26,
   "id": "f8aa863a",
   "metadata": {
    "execution": {
     "iopub.execute_input": "2024-04-27T04:29:17.279983Z",
     "iopub.status.busy": "2024-04-27T04:29:17.279682Z",
     "iopub.status.idle": "2024-04-27T04:29:17.286917Z",
     "shell.execute_reply": "2024-04-27T04:29:17.286162Z"
    },
    "papermill": {
     "duration": 0.026243,
     "end_time": "2024-04-27T04:29:17.288929",
     "exception": false,
     "start_time": "2024-04-27T04:29:17.262686",
     "status": "completed"
    },
    "tags": []
   },
   "outputs": [
    {
     "data": {
      "text/plain": [
       "Survived       0\n",
       "Pclass         0\n",
       "Sex            0\n",
       "Age            0\n",
       "SibSp          0\n",
       "Parch          0\n",
       "Fare           0\n",
       "Embarked       2\n",
       "cabin_count    0\n",
       "cabin_deck     0\n",
       "dtype: int64"
      ]
     },
     "execution_count": 26,
     "metadata": {},
     "output_type": "execute_result"
    }
   ],
   "source": [
    "data.isna().sum()"
   ]
  },
  {
   "cell_type": "markdown",
   "id": "aba7ce71",
   "metadata": {
    "papermill": {
     "duration": 0.015831,
     "end_time": "2024-04-27T04:29:17.320995",
     "exception": false,
     "start_time": "2024-04-27T04:29:17.305164",
     "status": "completed"
    },
    "tags": []
   },
   "source": [
    "# Handling Embarked"
   ]
  },
  {
   "cell_type": "code",
   "execution_count": 27,
   "id": "78fa8cb8",
   "metadata": {
    "execution": {
     "iopub.execute_input": "2024-04-27T04:29:17.355819Z",
     "iopub.status.busy": "2024-04-27T04:29:17.354901Z",
     "iopub.status.idle": "2024-04-27T04:29:17.363535Z",
     "shell.execute_reply": "2024-04-27T04:29:17.362473Z"
    },
    "papermill": {
     "duration": 0.028554,
     "end_time": "2024-04-27T04:29:17.365627",
     "exception": false,
     "start_time": "2024-04-27T04:29:17.337073",
     "status": "completed"
    },
    "tags": []
   },
   "outputs": [
    {
     "data": {
      "text/plain": [
       "Embarked\n",
       "S    644\n",
       "C    168\n",
       "Q     77\n",
       "Name: count, dtype: int64"
      ]
     },
     "execution_count": 27,
     "metadata": {},
     "output_type": "execute_result"
    }
   ],
   "source": [
    "emb = data['Embarked']\n",
    "emb.value_counts()"
   ]
  },
  {
   "cell_type": "code",
   "execution_count": 28,
   "id": "99909a2c",
   "metadata": {
    "execution": {
     "iopub.execute_input": "2024-04-27T04:29:17.400102Z",
     "iopub.status.busy": "2024-04-27T04:29:17.399470Z",
     "iopub.status.idle": "2024-04-27T04:29:17.407822Z",
     "shell.execute_reply": "2024-04-27T04:29:17.406876Z"
    },
    "papermill": {
     "duration": 0.027868,
     "end_time": "2024-04-27T04:29:17.409841",
     "exception": false,
     "start_time": "2024-04-27T04:29:17.381973",
     "status": "completed"
    },
    "tags": []
   },
   "outputs": [
    {
     "data": {
      "text/plain": [
       "0"
      ]
     },
     "execution_count": 28,
     "metadata": {},
     "output_type": "execute_result"
    }
   ],
   "source": [
    "mode = emb.mode().iloc[0]\n",
    "data['Embarked'].fillna(mode, inplace = True)\n",
    "data['Embarked'].isna().sum()"
   ]
  },
  {
   "cell_type": "code",
   "execution_count": 29,
   "id": "8e8116be",
   "metadata": {
    "execution": {
     "iopub.execute_input": "2024-04-27T04:29:17.445861Z",
     "iopub.status.busy": "2024-04-27T04:29:17.445301Z",
     "iopub.status.idle": "2024-04-27T04:29:17.453390Z",
     "shell.execute_reply": "2024-04-27T04:29:17.452495Z"
    },
    "papermill": {
     "duration": 0.029236,
     "end_time": "2024-04-27T04:29:17.455430",
     "exception": false,
     "start_time": "2024-04-27T04:29:17.426194",
     "status": "completed"
    },
    "tags": []
   },
   "outputs": [
    {
     "data": {
      "text/plain": [
       "Survived       0\n",
       "Pclass         0\n",
       "Sex            0\n",
       "Age            0\n",
       "SibSp          0\n",
       "Parch          0\n",
       "Fare           0\n",
       "Embarked       0\n",
       "cabin_count    0\n",
       "cabin_deck     0\n",
       "dtype: int64"
      ]
     },
     "execution_count": 29,
     "metadata": {},
     "output_type": "execute_result"
    }
   ],
   "source": [
    "data.isna().sum()"
   ]
  },
  {
   "cell_type": "code",
   "execution_count": 30,
   "id": "67d1ae47",
   "metadata": {
    "execution": {
     "iopub.execute_input": "2024-04-27T04:29:17.489911Z",
     "iopub.status.busy": "2024-04-27T04:29:17.489145Z",
     "iopub.status.idle": "2024-04-27T04:29:17.514360Z",
     "shell.execute_reply": "2024-04-27T04:29:17.513484Z"
    },
    "papermill": {
     "duration": 0.04459,
     "end_time": "2024-04-27T04:29:17.516438",
     "exception": false,
     "start_time": "2024-04-27T04:29:17.471848",
     "status": "completed"
    },
    "tags": []
   },
   "outputs": [
    {
     "data": {
      "text/html": [
       "<div>\n",
       "<style scoped>\n",
       "    .dataframe tbody tr th:only-of-type {\n",
       "        vertical-align: middle;\n",
       "    }\n",
       "\n",
       "    .dataframe tbody tr th {\n",
       "        vertical-align: top;\n",
       "    }\n",
       "\n",
       "    .dataframe thead th {\n",
       "        text-align: right;\n",
       "    }\n",
       "</style>\n",
       "<table border=\"1\" class=\"dataframe\">\n",
       "  <thead>\n",
       "    <tr style=\"text-align: right;\">\n",
       "      <th></th>\n",
       "      <th>Survived</th>\n",
       "      <th>Pclass</th>\n",
       "      <th>Age</th>\n",
       "      <th>SibSp</th>\n",
       "      <th>Parch</th>\n",
       "      <th>Fare</th>\n",
       "      <th>Sex_female</th>\n",
       "      <th>Sex_male</th>\n",
       "      <th>Embarked_C</th>\n",
       "      <th>Embarked_Q</th>\n",
       "      <th>...</th>\n",
       "      <th>cabin_count_2.0</th>\n",
       "      <th>cabin_count_3.0</th>\n",
       "      <th>cabin_count_4.0</th>\n",
       "      <th>cabin_deck_A</th>\n",
       "      <th>cabin_deck_B</th>\n",
       "      <th>cabin_deck_C</th>\n",
       "      <th>cabin_deck_D</th>\n",
       "      <th>cabin_deck_E</th>\n",
       "      <th>cabin_deck_F</th>\n",
       "      <th>cabin_deck_G</th>\n",
       "    </tr>\n",
       "  </thead>\n",
       "  <tbody>\n",
       "    <tr>\n",
       "      <th>0</th>\n",
       "      <td>0</td>\n",
       "      <td>3</td>\n",
       "      <td>22.0</td>\n",
       "      <td>1</td>\n",
       "      <td>0</td>\n",
       "      <td>7.2500</td>\n",
       "      <td>False</td>\n",
       "      <td>True</td>\n",
       "      <td>False</td>\n",
       "      <td>False</td>\n",
       "      <td>...</td>\n",
       "      <td>False</td>\n",
       "      <td>False</td>\n",
       "      <td>False</td>\n",
       "      <td>False</td>\n",
       "      <td>False</td>\n",
       "      <td>True</td>\n",
       "      <td>False</td>\n",
       "      <td>False</td>\n",
       "      <td>False</td>\n",
       "      <td>False</td>\n",
       "    </tr>\n",
       "    <tr>\n",
       "      <th>1</th>\n",
       "      <td>1</td>\n",
       "      <td>1</td>\n",
       "      <td>38.0</td>\n",
       "      <td>1</td>\n",
       "      <td>0</td>\n",
       "      <td>71.2833</td>\n",
       "      <td>True</td>\n",
       "      <td>False</td>\n",
       "      <td>True</td>\n",
       "      <td>False</td>\n",
       "      <td>...</td>\n",
       "      <td>False</td>\n",
       "      <td>False</td>\n",
       "      <td>False</td>\n",
       "      <td>False</td>\n",
       "      <td>False</td>\n",
       "      <td>True</td>\n",
       "      <td>False</td>\n",
       "      <td>False</td>\n",
       "      <td>False</td>\n",
       "      <td>False</td>\n",
       "    </tr>\n",
       "    <tr>\n",
       "      <th>2</th>\n",
       "      <td>1</td>\n",
       "      <td>3</td>\n",
       "      <td>26.0</td>\n",
       "      <td>0</td>\n",
       "      <td>0</td>\n",
       "      <td>7.9250</td>\n",
       "      <td>True</td>\n",
       "      <td>False</td>\n",
       "      <td>False</td>\n",
       "      <td>False</td>\n",
       "      <td>...</td>\n",
       "      <td>False</td>\n",
       "      <td>False</td>\n",
       "      <td>False</td>\n",
       "      <td>False</td>\n",
       "      <td>False</td>\n",
       "      <td>True</td>\n",
       "      <td>False</td>\n",
       "      <td>False</td>\n",
       "      <td>False</td>\n",
       "      <td>False</td>\n",
       "    </tr>\n",
       "    <tr>\n",
       "      <th>3</th>\n",
       "      <td>1</td>\n",
       "      <td>1</td>\n",
       "      <td>35.0</td>\n",
       "      <td>1</td>\n",
       "      <td>0</td>\n",
       "      <td>53.1000</td>\n",
       "      <td>True</td>\n",
       "      <td>False</td>\n",
       "      <td>False</td>\n",
       "      <td>False</td>\n",
       "      <td>...</td>\n",
       "      <td>False</td>\n",
       "      <td>False</td>\n",
       "      <td>False</td>\n",
       "      <td>False</td>\n",
       "      <td>False</td>\n",
       "      <td>True</td>\n",
       "      <td>False</td>\n",
       "      <td>False</td>\n",
       "      <td>False</td>\n",
       "      <td>False</td>\n",
       "    </tr>\n",
       "    <tr>\n",
       "      <th>4</th>\n",
       "      <td>0</td>\n",
       "      <td>3</td>\n",
       "      <td>35.0</td>\n",
       "      <td>0</td>\n",
       "      <td>0</td>\n",
       "      <td>8.0500</td>\n",
       "      <td>False</td>\n",
       "      <td>True</td>\n",
       "      <td>False</td>\n",
       "      <td>False</td>\n",
       "      <td>...</td>\n",
       "      <td>False</td>\n",
       "      <td>False</td>\n",
       "      <td>False</td>\n",
       "      <td>False</td>\n",
       "      <td>False</td>\n",
       "      <td>True</td>\n",
       "      <td>False</td>\n",
       "      <td>False</td>\n",
       "      <td>False</td>\n",
       "      <td>False</td>\n",
       "    </tr>\n",
       "  </tbody>\n",
       "</table>\n",
       "<p>5 rows × 22 columns</p>\n",
       "</div>"
      ],
      "text/plain": [
       "   Survived  Pclass   Age  SibSp  Parch     Fare  Sex_female  Sex_male  \\\n",
       "0         0       3  22.0      1      0   7.2500       False      True   \n",
       "1         1       1  38.0      1      0  71.2833        True     False   \n",
       "2         1       3  26.0      0      0   7.9250        True     False   \n",
       "3         1       1  35.0      1      0  53.1000        True     False   \n",
       "4         0       3  35.0      0      0   8.0500       False      True   \n",
       "\n",
       "   Embarked_C  Embarked_Q  ...  cabin_count_2.0  cabin_count_3.0  \\\n",
       "0       False       False  ...            False            False   \n",
       "1        True       False  ...            False            False   \n",
       "2       False       False  ...            False            False   \n",
       "3       False       False  ...            False            False   \n",
       "4       False       False  ...            False            False   \n",
       "\n",
       "   cabin_count_4.0  cabin_deck_A  cabin_deck_B  cabin_deck_C  cabin_deck_D  \\\n",
       "0            False         False         False          True         False   \n",
       "1            False         False         False          True         False   \n",
       "2            False         False         False          True         False   \n",
       "3            False         False         False          True         False   \n",
       "4            False         False         False          True         False   \n",
       "\n",
       "   cabin_deck_E  cabin_deck_F  cabin_deck_G  \n",
       "0         False         False         False  \n",
       "1         False         False         False  \n",
       "2         False         False         False  \n",
       "3         False         False         False  \n",
       "4         False         False         False  \n",
       "\n",
       "[5 rows x 22 columns]"
      ]
     },
     "execution_count": 30,
     "metadata": {},
     "output_type": "execute_result"
    }
   ],
   "source": [
    "data = pd.get_dummies(data) # Get OHE vectors of all cat. features\n",
    "data.head()"
   ]
  },
  {
   "cell_type": "markdown",
   "id": "7af6c952",
   "metadata": {
    "papermill": {
     "duration": 0.016763,
     "end_time": "2024-04-27T04:29:17.550314",
     "exception": false,
     "start_time": "2024-04-27T04:29:17.533551",
     "status": "completed"
    },
    "tags": []
   },
   "source": [
    "# Model Building"
   ]
  },
  {
   "cell_type": "code",
   "execution_count": 31,
   "id": "3b632667",
   "metadata": {
    "execution": {
     "iopub.execute_input": "2024-04-27T04:29:17.586080Z",
     "iopub.status.busy": "2024-04-27T04:29:17.585691Z",
     "iopub.status.idle": "2024-04-27T04:29:17.592066Z",
     "shell.execute_reply": "2024-04-27T04:29:17.590970Z"
    },
    "papermill": {
     "duration": 0.026916,
     "end_time": "2024-04-27T04:29:17.594156",
     "exception": false,
     "start_time": "2024-04-27T04:29:17.567240",
     "status": "completed"
    },
    "tags": []
   },
   "outputs": [],
   "source": [
    "X = data.drop('Survived', axis =1)\n",
    "y = data['Survived']"
   ]
  },
  {
   "cell_type": "code",
   "execution_count": 32,
   "id": "94ff848f",
   "metadata": {
    "execution": {
     "iopub.execute_input": "2024-04-27T04:29:17.630550Z",
     "iopub.status.busy": "2024-04-27T04:29:17.629941Z",
     "iopub.status.idle": "2024-04-27T04:29:17.639004Z",
     "shell.execute_reply": "2024-04-27T04:29:17.637930Z"
    },
    "papermill": {
     "duration": 0.029021,
     "end_time": "2024-04-27T04:29:17.640983",
     "exception": false,
     "start_time": "2024-04-27T04:29:17.611962",
     "status": "completed"
    },
    "tags": []
   },
   "outputs": [
    {
     "data": {
      "text/plain": [
       "Survived\n",
       "0    549\n",
       "1    342\n",
       "Name: count, dtype: int64"
      ]
     },
     "execution_count": 32,
     "metadata": {},
     "output_type": "execute_result"
    }
   ],
   "source": [
    "data['Survived'].value_counts() # data is not severly imbalanced"
   ]
  },
  {
   "cell_type": "code",
   "execution_count": 33,
   "id": "d98d8c9c",
   "metadata": {
    "execution": {
     "iopub.execute_input": "2024-04-27T04:29:17.676645Z",
     "iopub.status.busy": "2024-04-27T04:29:17.676025Z",
     "iopub.status.idle": "2024-04-27T04:29:18.131086Z",
     "shell.execute_reply": "2024-04-27T04:29:18.130140Z"
    },
    "papermill": {
     "duration": 0.475146,
     "end_time": "2024-04-27T04:29:18.133137",
     "exception": false,
     "start_time": "2024-04-27T04:29:17.657991",
     "status": "completed"
    },
    "tags": []
   },
   "outputs": [
    {
     "name": "stdout",
     "output_type": "stream",
     "text": [
      "0.7888888888888889\n"
     ]
    }
   ],
   "source": [
    "# Importing necessary libraries\n",
    "from sklearn.model_selection import train_test_split  # Importing train_test_split function from sklearn.model_selection module\n",
    "from sklearn.metrics import accuracy_score  # Importing accuracy_score function from sklearn.metrics module\n",
    "import xgboost as xgb  # Importing xgboost library as xgb\n",
    "\n",
    "# Splitting the data into training and testing sets\n",
    "Xtrain, Xtest, ytrain, ytest = train_test_split(X, y, test_size=0.1)  # Using train_test_split to split the data into training and testing sets with a 75-25 split ratio, and setting the random state to 104\n",
    "\n",
    "# Initializing the XGBoost classifier\n",
    "clf = xgb.XGBClassifier()  # Creating an XGBoost classifier object with default parameters\n",
    "\n",
    "# Training the classifier\n",
    "clf.fit(Xtrain, ytrain)  # Fitting the classifier to the training data\n",
    "\n",
    "# Making predictions on the test data\n",
    "ypred = clf.predict(Xtest)  # Predicting the labels for the test data using the trained classifier\n",
    "\n",
    "# Calculating accuracy\n",
    "accuracy = accuracy_score(ytest, ypred)  # Calculating the accuracy of the predictions by comparing them to the true labels\n",
    "\n",
    "# Printing the accuracy\n",
    "print(accuracy)  # Printing the accuracy of the classifier on the test data\n"
   ]
  },
  {
   "cell_type": "markdown",
   "id": "e0ee6751",
   "metadata": {
    "papermill": {
     "duration": 0.016889,
     "end_time": "2024-04-27T04:29:18.167606",
     "exception": false,
     "start_time": "2024-04-27T04:29:18.150717",
     "status": "completed"
    },
    "tags": []
   },
   "source": [
    "# Hyper Parameter Optimzation "
   ]
  },
  {
   "cell_type": "code",
   "execution_count": 34,
   "id": "d6666f49",
   "metadata": {
    "execution": {
     "iopub.execute_input": "2024-04-27T04:29:18.203249Z",
     "iopub.status.busy": "2024-04-27T04:29:18.202862Z",
     "iopub.status.idle": "2024-04-27T04:29:35.719437Z",
     "shell.execute_reply": "2024-04-27T04:29:35.718531Z"
    },
    "papermill": {
     "duration": 17.536993,
     "end_time": "2024-04-27T04:29:35.721551",
     "exception": false,
     "start_time": "2024-04-27T04:29:18.184558",
     "status": "completed"
    },
    "tags": []
   },
   "outputs": [
    {
     "name": "stdout",
     "output_type": "stream",
     "text": [
      "Best Parameters: {'learning_rate': 0.1, 'max_depth': 3, 'n_estimators': 100}\n",
      "Best Score: 0.8364544319600501\n",
      "Accuracy: 0.7777777777777778\n"
     ]
    }
   ],
   "source": [
    "import pandas as pd\n",
    "from sklearn.model_selection import train_test_split, GridSearchCV\n",
    "from sklearn.metrics import accuracy_score\n",
    "import xgboost as xgb\n",
    "\n",
    "# Assuming you have already defined X and y\n",
    "\n",
    "# Splitting the data into training and testing sets\n",
    "Xtrain, Xtest, ytrain, ytest = train_test_split(X, y, test_size=0.1, random_state=104)\n",
    "\n",
    "# Initialize the XGBoost classifier\n",
    "clf = xgb.XGBClassifier()\n",
    "\n",
    "# Define a parameter grid for Grid Search\n",
    "param_grid = {\n",
    "    'n_estimators': [100, 150, 200, 250, 300],\n",
    "    'max_depth': [3, 5, 7],\n",
    "    'learning_rate': [0.1, 0.01, 0.001]\n",
    "}\n",
    "\n",
    "# Perform Grid Search with cross-validation\n",
    "grid_search = GridSearchCV(estimator=clf, param_grid=param_grid, cv=3, scoring='accuracy')\n",
    "grid_search.fit(Xtrain, ytrain)\n",
    "\n",
    "# Get the best parameters and the best score\n",
    "best_params = grid_search.best_params_\n",
    "best_score = grid_search.best_score_\n",
    "\n",
    "print(\"Best Parameters:\", best_params)\n",
    "print(\"Best Score:\", best_score)\n",
    "\n",
    "# Use the best model for predictions\n",
    "best_model = grid_search.best_estimator_\n",
    "ypred = best_model.predict(Xtest)\n",
    "\n",
    "# Calculate accuracy\n",
    "accuracy = accuracy_score(ytest, ypred)\n",
    "print(\"Accuracy:\", accuracy)\n"
   ]
  },
  {
   "cell_type": "markdown",
   "id": "fe87343a",
   "metadata": {
    "papermill": {
     "duration": 0.016905,
     "end_time": "2024-04-27T04:29:35.756036",
     "exception": false,
     "start_time": "2024-04-27T04:29:35.739131",
     "status": "completed"
    },
    "tags": []
   },
   "source": [
    "Submission"
   ]
  },
  {
   "cell_type": "code",
   "execution_count": 35,
   "id": "4be49ec4",
   "metadata": {
    "execution": {
     "iopub.execute_input": "2024-04-27T04:29:35.792437Z",
     "iopub.status.busy": "2024-04-27T04:29:35.791490Z",
     "iopub.status.idle": "2024-04-27T04:29:35.804465Z",
     "shell.execute_reply": "2024-04-27T04:29:35.803453Z"
    },
    "papermill": {
     "duration": 0.033414,
     "end_time": "2024-04-27T04:29:35.806505",
     "exception": false,
     "start_time": "2024-04-27T04:29:35.773091",
     "status": "completed"
    },
    "tags": []
   },
   "outputs": [],
   "source": [
    "# Load test data \n",
    "data = pd.read_csv('/kaggle/input/titanic/test.csv')\n",
    "\n",
    "PassengerId = data['PassengerId']"
   ]
  },
  {
   "cell_type": "code",
   "execution_count": 36,
   "id": "b3e3c9b1",
   "metadata": {
    "execution": {
     "iopub.execute_input": "2024-04-27T04:29:35.842683Z",
     "iopub.status.busy": "2024-04-27T04:29:35.841828Z",
     "iopub.status.idle": "2024-04-27T04:29:35.865752Z",
     "shell.execute_reply": "2024-04-27T04:29:35.864721Z"
    },
    "papermill": {
     "duration": 0.044094,
     "end_time": "2024-04-27T04:29:35.867800",
     "exception": false,
     "start_time": "2024-04-27T04:29:35.823706",
     "status": "completed"
    },
    "tags": []
   },
   "outputs": [
    {
     "name": "stderr",
     "output_type": "stream",
     "text": [
      "/tmp/ipykernel_18/2634564085.py:7: FutureWarning: A value is trying to be set on a copy of a DataFrame or Series through chained assignment using an inplace method.\n",
      "The behavior will change in pandas 3.0. This inplace method will never work because the intermediate object on which we are setting values always behaves as a copy.\n",
      "\n",
      "For example, when doing 'df[col].method(value, inplace=True)', try using 'df.method({col: value}, inplace=True)' or df[col] = df[col].method(value) instead, to perform the operation inplace on the original object.\n",
      "\n",
      "\n",
      "  data['Age'].fillna(mean,inplace =True)\n"
     ]
    }
   ],
   "source": [
    "# Transformations :\n",
    "data.drop(['PassengerId','Name','Ticket'], axis =1 , inplace = True)\n",
    "\n",
    "# Age \n",
    "mean = data['Age'].mean()\n",
    "\n",
    "data['Age'].fillna(mean,inplace =True)\n",
    "\n",
    "data.isna().sum()\n",
    "\n",
    "# Cabin\n",
    "\n",
    "cabin = data['Cabin']\n",
    "cabin_count = []\n",
    "cabin_deck = []\n",
    "\n",
    "for row in cabin:\n",
    "    if pd.isna(row):\n",
    "        cabin_count.append(np.nan)\n",
    "        cabin_deck.append(np.nan)\n",
    "    else:\n",
    "        cabin_names = row.split()\n",
    "        cabin_count.append(len(cabin_names))\n",
    "        cabin_deck.append(cabin_names[0][0])\n",
    "        \n",
    "cabin_count = pd.Series(cabin_count)\n",
    "cabin_deck = pd.Series(cabin_deck)\n",
    "\n",
    "mode = cabin_count.mode().iloc[0] # Note that cabin_count is still not continous\n",
    "cabin_count.fillna(mode, inplace =True)\n",
    "\n",
    "mode= cabin_deck.mode().iloc[0]\n",
    "cabin_deck.fillna(mode, inplace =True)\n",
    "cabin_deck.isna().sum()\n",
    "\n",
    "data.drop('Cabin', axis = 1, inplace = True) # Drop cabin\n",
    "data['cabin_count'] = cabin_count\n",
    "data['cabin_deck'] = cabin_deck\n",
    "\n",
    "data['cabin_count'] = data['cabin_count'].astype(str)\n",
    "\n",
    "# Embarked\n",
    "\n",
    "emb = data['Embarked']\n",
    "mode = emb.mode().iloc[0]\n",
    "data['Embarked'].fillna(mode, inplace = True)\n",
    "\n",
    "X = pd.get_dummies(data)\n"
   ]
  },
  {
   "cell_type": "code",
   "execution_count": 37,
   "id": "fe7c7321",
   "metadata": {
    "execution": {
     "iopub.execute_input": "2024-04-27T04:29:35.903564Z",
     "iopub.status.busy": "2024-04-27T04:29:35.903193Z",
     "iopub.status.idle": "2024-04-27T04:29:35.925400Z",
     "shell.execute_reply": "2024-04-27T04:29:35.924446Z"
    },
    "papermill": {
     "duration": 0.042431,
     "end_time": "2024-04-27T04:29:35.927466",
     "exception": false,
     "start_time": "2024-04-27T04:29:35.885035",
     "status": "completed"
    },
    "tags": []
   },
   "outputs": [
    {
     "data": {
      "text/html": [
       "<div>\n",
       "<style scoped>\n",
       "    .dataframe tbody tr th:only-of-type {\n",
       "        vertical-align: middle;\n",
       "    }\n",
       "\n",
       "    .dataframe tbody tr th {\n",
       "        vertical-align: top;\n",
       "    }\n",
       "\n",
       "    .dataframe thead th {\n",
       "        text-align: right;\n",
       "    }\n",
       "</style>\n",
       "<table border=\"1\" class=\"dataframe\">\n",
       "  <thead>\n",
       "    <tr style=\"text-align: right;\">\n",
       "      <th></th>\n",
       "      <th>Pclass</th>\n",
       "      <th>Age</th>\n",
       "      <th>SibSp</th>\n",
       "      <th>Parch</th>\n",
       "      <th>Fare</th>\n",
       "      <th>Sex_female</th>\n",
       "      <th>Sex_male</th>\n",
       "      <th>Embarked_C</th>\n",
       "      <th>Embarked_Q</th>\n",
       "      <th>Embarked_S</th>\n",
       "      <th>...</th>\n",
       "      <th>cabin_count_2.0</th>\n",
       "      <th>cabin_count_3.0</th>\n",
       "      <th>cabin_count_4.0</th>\n",
       "      <th>cabin_deck_A</th>\n",
       "      <th>cabin_deck_B</th>\n",
       "      <th>cabin_deck_C</th>\n",
       "      <th>cabin_deck_D</th>\n",
       "      <th>cabin_deck_E</th>\n",
       "      <th>cabin_deck_F</th>\n",
       "      <th>cabin_deck_G</th>\n",
       "    </tr>\n",
       "  </thead>\n",
       "  <tbody>\n",
       "    <tr>\n",
       "      <th>0</th>\n",
       "      <td>3</td>\n",
       "      <td>34.5</td>\n",
       "      <td>0</td>\n",
       "      <td>0</td>\n",
       "      <td>7.8292</td>\n",
       "      <td>False</td>\n",
       "      <td>True</td>\n",
       "      <td>False</td>\n",
       "      <td>True</td>\n",
       "      <td>False</td>\n",
       "      <td>...</td>\n",
       "      <td>False</td>\n",
       "      <td>False</td>\n",
       "      <td>False</td>\n",
       "      <td>False</td>\n",
       "      <td>False</td>\n",
       "      <td>True</td>\n",
       "      <td>False</td>\n",
       "      <td>False</td>\n",
       "      <td>False</td>\n",
       "      <td>False</td>\n",
       "    </tr>\n",
       "    <tr>\n",
       "      <th>1</th>\n",
       "      <td>3</td>\n",
       "      <td>47.0</td>\n",
       "      <td>1</td>\n",
       "      <td>0</td>\n",
       "      <td>7.0000</td>\n",
       "      <td>True</td>\n",
       "      <td>False</td>\n",
       "      <td>False</td>\n",
       "      <td>False</td>\n",
       "      <td>True</td>\n",
       "      <td>...</td>\n",
       "      <td>False</td>\n",
       "      <td>False</td>\n",
       "      <td>False</td>\n",
       "      <td>False</td>\n",
       "      <td>False</td>\n",
       "      <td>True</td>\n",
       "      <td>False</td>\n",
       "      <td>False</td>\n",
       "      <td>False</td>\n",
       "      <td>False</td>\n",
       "    </tr>\n",
       "    <tr>\n",
       "      <th>2</th>\n",
       "      <td>2</td>\n",
       "      <td>62.0</td>\n",
       "      <td>0</td>\n",
       "      <td>0</td>\n",
       "      <td>9.6875</td>\n",
       "      <td>False</td>\n",
       "      <td>True</td>\n",
       "      <td>False</td>\n",
       "      <td>True</td>\n",
       "      <td>False</td>\n",
       "      <td>...</td>\n",
       "      <td>False</td>\n",
       "      <td>False</td>\n",
       "      <td>False</td>\n",
       "      <td>False</td>\n",
       "      <td>False</td>\n",
       "      <td>True</td>\n",
       "      <td>False</td>\n",
       "      <td>False</td>\n",
       "      <td>False</td>\n",
       "      <td>False</td>\n",
       "    </tr>\n",
       "    <tr>\n",
       "      <th>3</th>\n",
       "      <td>3</td>\n",
       "      <td>27.0</td>\n",
       "      <td>0</td>\n",
       "      <td>0</td>\n",
       "      <td>8.6625</td>\n",
       "      <td>False</td>\n",
       "      <td>True</td>\n",
       "      <td>False</td>\n",
       "      <td>False</td>\n",
       "      <td>True</td>\n",
       "      <td>...</td>\n",
       "      <td>False</td>\n",
       "      <td>False</td>\n",
       "      <td>False</td>\n",
       "      <td>False</td>\n",
       "      <td>False</td>\n",
       "      <td>True</td>\n",
       "      <td>False</td>\n",
       "      <td>False</td>\n",
       "      <td>False</td>\n",
       "      <td>False</td>\n",
       "    </tr>\n",
       "    <tr>\n",
       "      <th>4</th>\n",
       "      <td>3</td>\n",
       "      <td>22.0</td>\n",
       "      <td>1</td>\n",
       "      <td>1</td>\n",
       "      <td>12.2875</td>\n",
       "      <td>True</td>\n",
       "      <td>False</td>\n",
       "      <td>False</td>\n",
       "      <td>False</td>\n",
       "      <td>True</td>\n",
       "      <td>...</td>\n",
       "      <td>False</td>\n",
       "      <td>False</td>\n",
       "      <td>False</td>\n",
       "      <td>False</td>\n",
       "      <td>False</td>\n",
       "      <td>True</td>\n",
       "      <td>False</td>\n",
       "      <td>False</td>\n",
       "      <td>False</td>\n",
       "      <td>False</td>\n",
       "    </tr>\n",
       "  </tbody>\n",
       "</table>\n",
       "<p>5 rows × 21 columns</p>\n",
       "</div>"
      ],
      "text/plain": [
       "   Pclass   Age  SibSp  Parch     Fare  Sex_female  Sex_male  Embarked_C  \\\n",
       "0       3  34.5      0      0   7.8292       False      True       False   \n",
       "1       3  47.0      1      0   7.0000        True     False       False   \n",
       "2       2  62.0      0      0   9.6875       False      True       False   \n",
       "3       3  27.0      0      0   8.6625       False      True       False   \n",
       "4       3  22.0      1      1  12.2875        True     False       False   \n",
       "\n",
       "   Embarked_Q  Embarked_S  ...  cabin_count_2.0  cabin_count_3.0  \\\n",
       "0        True       False  ...            False            False   \n",
       "1       False        True  ...            False            False   \n",
       "2        True       False  ...            False            False   \n",
       "3       False        True  ...            False            False   \n",
       "4       False        True  ...            False            False   \n",
       "\n",
       "   cabin_count_4.0  cabin_deck_A  cabin_deck_B  cabin_deck_C  cabin_deck_D  \\\n",
       "0            False         False         False          True         False   \n",
       "1            False         False         False          True         False   \n",
       "2            False         False         False          True         False   \n",
       "3            False         False         False          True         False   \n",
       "4            False         False         False          True         False   \n",
       "\n",
       "   cabin_deck_E  cabin_deck_F  cabin_deck_G  \n",
       "0         False         False         False  \n",
       "1         False         False         False  \n",
       "2         False         False         False  \n",
       "3         False         False         False  \n",
       "4         False         False         False  \n",
       "\n",
       "[5 rows x 21 columns]"
      ]
     },
     "execution_count": 37,
     "metadata": {},
     "output_type": "execute_result"
    }
   ],
   "source": [
    "X.head()"
   ]
  },
  {
   "cell_type": "code",
   "execution_count": 38,
   "id": "1a5e4c8f",
   "metadata": {
    "execution": {
     "iopub.execute_input": "2024-04-27T04:29:35.965327Z",
     "iopub.status.busy": "2024-04-27T04:29:35.964963Z",
     "iopub.status.idle": "2024-04-27T04:29:35.968679Z",
     "shell.execute_reply": "2024-04-27T04:29:35.967769Z"
    },
    "papermill": {
     "duration": 0.024204,
     "end_time": "2024-04-27T04:29:35.970705",
     "exception": false,
     "start_time": "2024-04-27T04:29:35.946501",
     "status": "completed"
    },
    "tags": []
   },
   "outputs": [],
   "source": [
    "# NOTE : CHANGE THE MODEL TO APPLY PRECICT() BELOW BASED ON CLF() or BEST_MODEL() FROM CV"
   ]
  },
  {
   "cell_type": "code",
   "execution_count": 39,
   "id": "d4440833",
   "metadata": {
    "execution": {
     "iopub.execute_input": "2024-04-27T04:29:36.006962Z",
     "iopub.status.busy": "2024-04-27T04:29:36.006644Z",
     "iopub.status.idle": "2024-04-27T04:29:36.022860Z",
     "shell.execute_reply": "2024-04-27T04:29:36.021804Z"
    },
    "papermill": {
     "duration": 0.036712,
     "end_time": "2024-04-27T04:29:36.024883",
     "exception": false,
     "start_time": "2024-04-27T04:29:35.988171",
     "status": "completed"
    },
    "tags": []
   },
   "outputs": [
    {
     "name": "stdout",
     "output_type": "stream",
     "text": [
      "success\n"
     ]
    }
   ],
   "source": [
    "# Applying the model and training it.\n",
    "\n",
    "finalY = best_model.predict(X)\n",
    "\n",
    "df = pd.DataFrame()\n",
    "df['PassengerId'] = PassengerId\n",
    "df['Survived'] = finalY\n",
    "\n",
    "df.to_csv('mysub4.csv',index = False)\n",
    "print('success')\n"
   ]
  },
  {
   "cell_type": "markdown",
   "id": "07f5ab18",
   "metadata": {
    "papermill": {
     "duration": 0.017327,
     "end_time": "2024-04-27T04:29:36.059899",
     "exception": false,
     "start_time": "2024-04-27T04:29:36.042572",
     "status": "completed"
    },
    "tags": []
   },
   "source": [
    "# What if we keep it simple as shown in Introductory Notebook"
   ]
  },
  {
   "cell_type": "code",
   "execution_count": 40,
   "id": "bc9cba62",
   "metadata": {
    "execution": {
     "iopub.execute_input": "2024-04-27T04:29:36.096448Z",
     "iopub.status.busy": "2024-04-27T04:29:36.096004Z",
     "iopub.status.idle": "2024-04-27T04:29:36.117513Z",
     "shell.execute_reply": "2024-04-27T04:29:36.116584Z"
    },
    "papermill": {
     "duration": 0.042199,
     "end_time": "2024-04-27T04:29:36.119653",
     "exception": false,
     "start_time": "2024-04-27T04:29:36.077454",
     "status": "completed"
    },
    "tags": []
   },
   "outputs": [
    {
     "data": {
      "text/html": [
       "<div>\n",
       "<style scoped>\n",
       "    .dataframe tbody tr th:only-of-type {\n",
       "        vertical-align: middle;\n",
       "    }\n",
       "\n",
       "    .dataframe tbody tr th {\n",
       "        vertical-align: top;\n",
       "    }\n",
       "\n",
       "    .dataframe thead th {\n",
       "        text-align: right;\n",
       "    }\n",
       "</style>\n",
       "<table border=\"1\" class=\"dataframe\">\n",
       "  <thead>\n",
       "    <tr style=\"text-align: right;\">\n",
       "      <th></th>\n",
       "      <th>PassengerId</th>\n",
       "      <th>Survived</th>\n",
       "      <th>Pclass</th>\n",
       "      <th>Name</th>\n",
       "      <th>Sex</th>\n",
       "      <th>Age</th>\n",
       "      <th>SibSp</th>\n",
       "      <th>Parch</th>\n",
       "      <th>Ticket</th>\n",
       "      <th>Fare</th>\n",
       "      <th>Cabin</th>\n",
       "      <th>Embarked</th>\n",
       "    </tr>\n",
       "  </thead>\n",
       "  <tbody>\n",
       "    <tr>\n",
       "      <th>0</th>\n",
       "      <td>1</td>\n",
       "      <td>0</td>\n",
       "      <td>3</td>\n",
       "      <td>Braund, Mr. Owen Harris</td>\n",
       "      <td>male</td>\n",
       "      <td>22.0</td>\n",
       "      <td>1</td>\n",
       "      <td>0</td>\n",
       "      <td>A/5 21171</td>\n",
       "      <td>7.2500</td>\n",
       "      <td>NaN</td>\n",
       "      <td>S</td>\n",
       "    </tr>\n",
       "    <tr>\n",
       "      <th>1</th>\n",
       "      <td>2</td>\n",
       "      <td>1</td>\n",
       "      <td>1</td>\n",
       "      <td>Cumings, Mrs. John Bradley (Florence Briggs Th...</td>\n",
       "      <td>female</td>\n",
       "      <td>38.0</td>\n",
       "      <td>1</td>\n",
       "      <td>0</td>\n",
       "      <td>PC 17599</td>\n",
       "      <td>71.2833</td>\n",
       "      <td>C85</td>\n",
       "      <td>C</td>\n",
       "    </tr>\n",
       "    <tr>\n",
       "      <th>2</th>\n",
       "      <td>3</td>\n",
       "      <td>1</td>\n",
       "      <td>3</td>\n",
       "      <td>Heikkinen, Miss. Laina</td>\n",
       "      <td>female</td>\n",
       "      <td>26.0</td>\n",
       "      <td>0</td>\n",
       "      <td>0</td>\n",
       "      <td>STON/O2. 3101282</td>\n",
       "      <td>7.9250</td>\n",
       "      <td>NaN</td>\n",
       "      <td>S</td>\n",
       "    </tr>\n",
       "    <tr>\n",
       "      <th>3</th>\n",
       "      <td>4</td>\n",
       "      <td>1</td>\n",
       "      <td>1</td>\n",
       "      <td>Futrelle, Mrs. Jacques Heath (Lily May Peel)</td>\n",
       "      <td>female</td>\n",
       "      <td>35.0</td>\n",
       "      <td>1</td>\n",
       "      <td>0</td>\n",
       "      <td>113803</td>\n",
       "      <td>53.1000</td>\n",
       "      <td>C123</td>\n",
       "      <td>S</td>\n",
       "    </tr>\n",
       "    <tr>\n",
       "      <th>4</th>\n",
       "      <td>5</td>\n",
       "      <td>0</td>\n",
       "      <td>3</td>\n",
       "      <td>Allen, Mr. William Henry</td>\n",
       "      <td>male</td>\n",
       "      <td>35.0</td>\n",
       "      <td>0</td>\n",
       "      <td>0</td>\n",
       "      <td>373450</td>\n",
       "      <td>8.0500</td>\n",
       "      <td>NaN</td>\n",
       "      <td>S</td>\n",
       "    </tr>\n",
       "  </tbody>\n",
       "</table>\n",
       "</div>"
      ],
      "text/plain": [
       "   PassengerId  Survived  Pclass  \\\n",
       "0            1         0       3   \n",
       "1            2         1       1   \n",
       "2            3         1       3   \n",
       "3            4         1       1   \n",
       "4            5         0       3   \n",
       "\n",
       "                                                Name     Sex   Age  SibSp  \\\n",
       "0                            Braund, Mr. Owen Harris    male  22.0      1   \n",
       "1  Cumings, Mrs. John Bradley (Florence Briggs Th...  female  38.0      1   \n",
       "2                             Heikkinen, Miss. Laina  female  26.0      0   \n",
       "3       Futrelle, Mrs. Jacques Heath (Lily May Peel)  female  35.0      1   \n",
       "4                           Allen, Mr. William Henry    male  35.0      0   \n",
       "\n",
       "   Parch            Ticket     Fare Cabin Embarked  \n",
       "0      0         A/5 21171   7.2500   NaN        S  \n",
       "1      0          PC 17599  71.2833   C85        C  \n",
       "2      0  STON/O2. 3101282   7.9250   NaN        S  \n",
       "3      0            113803  53.1000  C123        S  \n",
       "4      0            373450   8.0500   NaN        S  "
      ]
     },
     "execution_count": 40,
     "metadata": {},
     "output_type": "execute_result"
    }
   ],
   "source": [
    "train_data = pd.read_csv('/kaggle/input/titanic/train.csv')\n",
    "test_data = pd.read_csv('/kaggle/input/titanic/test.csv')\n",
    "train_data.head()"
   ]
  },
  {
   "cell_type": "code",
   "execution_count": 41,
   "id": "86a92e1e",
   "metadata": {
    "execution": {
     "iopub.execute_input": "2024-04-27T04:29:36.158662Z",
     "iopub.status.busy": "2024-04-27T04:29:36.157988Z",
     "iopub.status.idle": "2024-04-27T04:29:36.166144Z",
     "shell.execute_reply": "2024-04-27T04:29:36.165266Z"
    },
    "papermill": {
     "duration": 0.030224,
     "end_time": "2024-04-27T04:29:36.168209",
     "exception": false,
     "start_time": "2024-04-27T04:29:36.137985",
     "status": "completed"
    },
    "tags": []
   },
   "outputs": [
    {
     "data": {
      "text/plain": [
       "PassengerId      0\n",
       "Survived         0\n",
       "Pclass           0\n",
       "Name             0\n",
       "Sex              0\n",
       "Age            177\n",
       "SibSp            0\n",
       "Parch            0\n",
       "Ticket           0\n",
       "Fare             0\n",
       "Cabin          687\n",
       "Embarked         2\n",
       "dtype: int64"
      ]
     },
     "execution_count": 41,
     "metadata": {},
     "output_type": "execute_result"
    }
   ],
   "source": [
    "train_data.isna().sum()"
   ]
  },
  {
   "cell_type": "code",
   "execution_count": 42,
   "id": "598ab349",
   "metadata": {
    "execution": {
     "iopub.execute_input": "2024-04-27T04:29:36.205351Z",
     "iopub.status.busy": "2024-04-27T04:29:36.204985Z",
     "iopub.status.idle": "2024-04-27T04:29:36.266276Z",
     "shell.execute_reply": "2024-04-27T04:29:36.265423Z"
    },
    "papermill": {
     "duration": 0.082373,
     "end_time": "2024-04-27T04:29:36.268420",
     "exception": false,
     "start_time": "2024-04-27T04:29:36.186047",
     "status": "completed"
    },
    "tags": []
   },
   "outputs": [
    {
     "name": "stdout",
     "output_type": "stream",
     "text": [
      "Your submission was successfully saved!\n"
     ]
    }
   ],
   "source": [
    "import pandas as pd\n",
    "from xgboost import XGBClassifier\n",
    "from sklearn.metrics import accuracy_score, f1_score\n",
    "\n",
    "# Assuming you have already defined train_data and test_data\n",
    "\n",
    "y = train_data[\"Survived\"]\n",
    "features = [\"Pclass\", \"Sex\", \"SibSp\", \"Parch\"]\n",
    "X = pd.get_dummies(train_data[features])\n",
    "X_test = pd.get_dummies(test_data[features])\n",
    "\n",
    "# Define and train the XGB model\n",
    "model = XGBClassifier(n_estimators=100, max_depth=5, random_state=1)\n",
    "model.fit(X, y)\n",
    "\n",
    "# Make predictions\n",
    "predictions = model.predict(X_test)\n",
    "\n",
    "# Save predictions to CSV\n",
    "output = pd.DataFrame({'PassengerId': test_data.PassengerId, 'Survived': predictions})\n",
    "output.to_csv('xgb1.csv', index=False)\n",
    "print(\"Your submission was successfully saved!\")\n"
   ]
  },
  {
   "cell_type": "markdown",
   "id": "87d4c6b1",
   "metadata": {
    "papermill": {
     "duration": 0.01798,
     "end_time": "2024-04-27T04:29:36.304765",
     "exception": false,
     "start_time": "2024-04-27T04:29:36.286785",
     "status": "completed"
    },
    "tags": []
   },
   "source": [
    "# Hyper Parameter Optimization"
   ]
  },
  {
   "cell_type": "code",
   "execution_count": 43,
   "id": "7162868d",
   "metadata": {
    "execution": {
     "iopub.execute_input": "2024-04-27T04:29:36.342308Z",
     "iopub.status.busy": "2024-04-27T04:29:36.341937Z",
     "iopub.status.idle": "2024-04-27T04:29:46.889306Z",
     "shell.execute_reply": "2024-04-27T04:29:46.888389Z"
    },
    "papermill": {
     "duration": 10.568711,
     "end_time": "2024-04-27T04:29:46.891441",
     "exception": false,
     "start_time": "2024-04-27T04:29:36.322730",
     "status": "completed"
    },
    "tags": []
   },
   "outputs": [
    {
     "name": "stdout",
     "output_type": "stream",
     "text": [
      "Best Parameters: {'learning_rate': 0.1, 'max_depth': 3, 'n_estimators': 150}\n",
      "Best Score: 0.8002244668911335\n",
      "Your submission was successfully saved!\n"
     ]
    }
   ],
   "source": [
    "import pandas as pd\n",
    "from xgboost import XGBClassifier\n",
    "from sklearn.model_selection import GridSearchCV\n",
    "from sklearn.metrics import accuracy_score\n",
    "\n",
    "# Assuming you have already defined train_data and test_data\n",
    "\n",
    "# Define features and target variable\n",
    "features = [\"Pclass\", \"Sex\", \"SibSp\", \"Parch\"]\n",
    "X = pd.get_dummies(train_data[features])\n",
    "y = train_data[\"Survived\"]\n",
    "\n",
    "# Define the XGB classifier\n",
    "xgb_model = XGBClassifier()\n",
    "\n",
    "# Define a parameter grid for Grid Search\n",
    "param_grid = {\n",
    "    'n_estimators': [100, 150, 200, 250, 300],  # Adjusted range for n_estimators\n",
    "    'max_depth': [3, 5, 7],\n",
    "    'learning_rate': [0.1, 0.01, 0.001]\n",
    "}\n",
    "\n",
    "# Perform Grid Search with cross-validation\n",
    "grid_search = GridSearchCV(estimator=xgb_model, param_grid=param_grid, cv=3, scoring='accuracy')\n",
    "grid_search.fit(X, y)\n",
    "\n",
    "# Get the best parameters and the best score\n",
    "best_params = grid_search.best_params_\n",
    "best_score = grid_search.best_score_\n",
    "\n",
    "print(\"Best Parameters:\", best_params)\n",
    "print(\"Best Score:\", best_score)\n",
    "\n",
    "# Use the best model for predictions\n",
    "best_model = grid_search.best_estimator_\n",
    "predictions = best_model.predict(pd.get_dummies(test_data[features]))\n",
    "\n",
    "# Save predictions to CSV\n",
    "output = pd.DataFrame({'PassengerId': test_data.PassengerId, 'Survived': predictions})\n",
    "output.to_csv('submission.csv', index=False)\n",
    "print(\"Your submission was successfully saved!\")\n"
   ]
  },
  {
   "cell_type": "code",
   "execution_count": null,
   "id": "5f8a3b50",
   "metadata": {
    "papermill": {
     "duration": 0.018024,
     "end_time": "2024-04-27T04:29:46.928408",
     "exception": false,
     "start_time": "2024-04-27T04:29:46.910384",
     "status": "completed"
    },
    "tags": []
   },
   "outputs": [],
   "source": []
  }
 ],
 "metadata": {
  "kaggle": {
   "accelerator": "none",
   "dataSources": [
    {
     "databundleVersionId": 26502,
     "sourceId": 3136,
     "sourceType": "competition"
    }
   ],
   "dockerImageVersionId": 30698,
   "isGpuEnabled": false,
   "isInternetEnabled": true,
   "language": "python",
   "sourceType": "notebook"
  },
  "kernelspec": {
   "display_name": "Python 3",
   "language": "python",
   "name": "python3"
  },
  "language_info": {
   "codemirror_mode": {
    "name": "ipython",
    "version": 3
   },
   "file_extension": ".py",
   "mimetype": "text/x-python",
   "name": "python",
   "nbconvert_exporter": "python",
   "pygments_lexer": "ipython3",
   "version": "3.10.13"
  },
  "papermill": {
   "default_parameters": {},
   "duration": 37.573339,
   "end_time": "2024-04-27T04:29:47.466674",
   "environment_variables": {},
   "exception": null,
   "input_path": "__notebook__.ipynb",
   "output_path": "__notebook__.ipynb",
   "parameters": {},
   "start_time": "2024-04-27T04:29:09.893335",
   "version": "2.5.0"
  }
 },
 "nbformat": 4,
 "nbformat_minor": 5
}
